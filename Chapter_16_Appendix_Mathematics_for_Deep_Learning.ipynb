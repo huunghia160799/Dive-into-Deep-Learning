{
  "nbformat": 4,
  "nbformat_minor": 0,
  "metadata": {
    "colab": {
      "name": "Chapter 16: Appendix Mathematics for Deep Learning.ipynb",
      "provenance": [],
      "authorship_tag": "ABX9TyOD1zBtSL9mb494H9BOay5i",
      "include_colab_link": true
    },
    "kernelspec": {
      "name": "python3",
      "display_name": "Python 3"
    },
    "accelerator": "GPU"
  },
  "cells": [
    {
      "cell_type": "markdown",
      "metadata": {
        "id": "view-in-github",
        "colab_type": "text"
      },
      "source": [
        "<a href=\"https://colab.research.google.com/github/huunghia160799/Dive-into-Deep-Learning/blob/master/Chapter_16_Appendix_Mathematics_for_Deep_Learning.ipynb\" target=\"_parent\"><img src=\"https://colab.research.google.com/assets/colab-badge.svg\" alt=\"Open In Colab\"/></a>"
      ]
    },
    {
      "cell_type": "markdown",
      "metadata": {
        "id": "p9upf089zbBw",
        "colab_type": "text"
      },
      "source": [
        "# 16.1 Geometry and Linear Algebra"
      ]
    },
    {
      "cell_type": "markdown",
      "metadata": {
        "id": "CrI_8tB4LG24",
        "colab_type": "text"
      },
      "source": [
        "## Hyperplane"
      ]
    },
    {
      "cell_type": "code",
      "metadata": {
        "id": "Sz_DljpxLKF6",
        "colab_type": "code",
        "outputId": "cc1ac8b7-be41-40dc-ad74-a69a7c415310",
        "colab": {
          "base_uri": "https://localhost:8080/",
          "height": 305
        }
      },
      "source": [
        "!pip install mxnet"
      ],
      "execution_count": 0,
      "outputs": [
        {
          "output_type": "stream",
          "text": [
            "Collecting mxnet\n",
            "\u001b[?25l  Downloading https://files.pythonhosted.org/packages/81/f5/d79b5b40735086ff1100c680703e0f3efc830fa455e268e9e96f3c857e93/mxnet-1.6.0-py2.py3-none-any.whl (68.7MB)\n",
            "\u001b[K     |████████████████████████████████| 68.7MB 44kB/s \n",
            "\u001b[?25hCollecting graphviz<0.9.0,>=0.8.1\n",
            "  Downloading https://files.pythonhosted.org/packages/53/39/4ab213673844e0c004bed8a0781a0721a3f6bb23eb8854ee75c236428892/graphviz-0.8.4-py2.py3-none-any.whl\n",
            "Requirement already satisfied: numpy<2.0.0,>1.16.0 in /usr/local/lib/python3.6/dist-packages (from mxnet) (1.17.5)\n",
            "Requirement already satisfied: requests<3,>=2.20.0 in /usr/local/lib/python3.6/dist-packages (from mxnet) (2.21.0)\n",
            "Requirement already satisfied: idna<2.9,>=2.5 in /usr/local/lib/python3.6/dist-packages (from requests<3,>=2.20.0->mxnet) (2.8)\n",
            "Requirement already satisfied: certifi>=2017.4.17 in /usr/local/lib/python3.6/dist-packages (from requests<3,>=2.20.0->mxnet) (2019.11.28)\n",
            "Requirement already satisfied: chardet<3.1.0,>=3.0.2 in /usr/local/lib/python3.6/dist-packages (from requests<3,>=2.20.0->mxnet) (3.0.4)\n",
            "Requirement already satisfied: urllib3<1.25,>=1.21.1 in /usr/local/lib/python3.6/dist-packages (from requests<3,>=2.20.0->mxnet) (1.24.3)\n",
            "Installing collected packages: graphviz, mxnet\n",
            "  Found existing installation: graphviz 0.10.1\n",
            "    Uninstalling graphviz-0.10.1:\n",
            "      Successfully uninstalled graphviz-0.10.1\n",
            "Successfully installed graphviz-0.8.4 mxnet-1.6.0\n"
          ],
          "name": "stdout"
        }
      ]
    },
    {
      "cell_type": "code",
      "metadata": {
        "id": "9Bduc-dJL28f",
        "colab_type": "code",
        "outputId": "ca8026fb-00d9-4802-d27e-b1a73f86fe56",
        "colab": {
          "base_uri": "https://localhost:8080/",
          "height": 125
        }
      },
      "source": [
        "from mxnet.gluon.data.vision.datasets import FashionMNIST\n",
        "import numpy as np\n",
        "\n",
        "train = FashionMNIST(train=True)\n",
        "test = FashionMNIST(train=False)\n",
        "\n",
        "print(len(train))\n",
        "print(len(test))"
      ],
      "execution_count": 0,
      "outputs": [
        {
          "output_type": "stream",
          "text": [
            "Downloading /root/.mxnet/datasets/fashion-mnist/train-images-idx3-ubyte.gz from https://apache-mxnet.s3-accelerate.dualstack.amazonaws.com/gluon/dataset/fashion-mnist/train-images-idx3-ubyte.gz...\n",
            "Downloading /root/.mxnet/datasets/fashion-mnist/train-labels-idx1-ubyte.gz from https://apache-mxnet.s3-accelerate.dualstack.amazonaws.com/gluon/dataset/fashion-mnist/train-labels-idx1-ubyte.gz...\n",
            "Downloading /root/.mxnet/datasets/fashion-mnist/t10k-images-idx3-ubyte.gz from https://apache-mxnet.s3-accelerate.dualstack.amazonaws.com/gluon/dataset/fashion-mnist/t10k-images-idx3-ubyte.gz...\n",
            "Downloading /root/.mxnet/datasets/fashion-mnist/t10k-labels-idx1-ubyte.gz from https://apache-mxnet.s3-accelerate.dualstack.amazonaws.com/gluon/dataset/fashion-mnist/t10k-labels-idx1-ubyte.gz...\n",
            "60000\n",
            "10000\n"
          ],
          "name": "stdout"
        }
      ]
    },
    {
      "cell_type": "code",
      "metadata": {
        "id": "wa6_3_YDT1iR",
        "colab_type": "code",
        "colab": {}
      },
      "source": [
        "X_train_0 = np.stack([x[0] for x in train if x[1] == 0]).astype(float)\n",
        "X_train_1 = np.stack([x[0] for x in train if x[1] == 1]).astype(float)\n",
        "X_test = np.stack(\n",
        "    [x[0] for x in test if x[1] == 0 or x[1] == 1]).astype(float)\n",
        "y_test = np.stack(\n",
        "    [x[1] for x in test if x[1] == 0 or x[1] == 1]).astype(float)\n",
        "\n",
        "# Compute averages\n",
        "ave_0 = np.mean(X_train_0, axis=0)\n",
        "ave_1 = np.mean(X_train_1, axis=0)"
      ],
      "execution_count": 0,
      "outputs": []
    },
    {
      "cell_type": "markdown",
      "metadata": {
        "id": "YXplRHyyw1GA",
        "colab_type": "text"
      },
      "source": [
        "## Exercises\n",
        "\n",
        "1.\n",
        "The angle between $\\vec{v_1}$ and $\\vec{v_2}$ is $\\arccos \\frac{\\vec{v_1} \\cdot \\vec{v_2}}{|\\vec{a_1}||\\vec{a_2}|} = \\arccos \\frac{3}{2 \\sqrt{11}} \\approx 63^{\\circ}$.\n",
        "\n",
        "2.\n",
        "$\\begin{bmatrix}1 & 2 \\\\ 0 & 1\\end{bmatrix}$ $\\begin{bmatrix}1 & -2 \\\\ 0 &1\\end{bmatrix}$ $= \\begin{bmatrix}1 & 0 \\\\ 0 & 1 \\end{bmatrix}$.\n",
        "\n",
        "The result of the matrix multiplication is an identity matrix, so the two matrix are the inverses of each other.\n",
        "\n",
        "3.\n",
        "The determinant of the matrix $\\det{\\begin{bmatrix}2 & 3 \\\\ 1 & 2 \\end{bmatrix}} = 1$. Therefore, the area of the shape after the transformation is $100 \\times 1 = 100 (m^2)$.\n",
        "\n",
        "4.\n",
        "The sets of vectors that are linearly independent are\n",
        "$\\left\\{\\begin{pmatrix}1\\\\0\\\\-1\\end{pmatrix}, \\begin{pmatrix}2\\\\1\\\\-1\\end{pmatrix}, \\begin{pmatrix}3\\\\1\\\\1\\end{pmatrix}\\right\\}$,\n",
        "$\\left\\{\\begin{pmatrix}1\\\\1\\\\0\\end{pmatrix}, \\begin{pmatrix}0\\\\1\\\\-1\\end{pmatrix}, \\begin{pmatrix}1\\\\0\\\\1\\end{pmatrix}\\right\\}.$\n",
        "\n",
        "5.\n",
        "This is true since $\\det(\\begin{bmatrix}c\\\\d\\end{bmatrix}\\begin{bmatrix}a&b\\end{bmatrix}) = \\det (\\begin{bmatrix}ca&cb\\\\da&db\\end{bmatrix}) = cadb - cbda = 0.$\n",
        "\n",
        "6.\n",
        "Firstly, the matrix $A$ must of of size $n \\times 2$ to ensure that $Ae_1$ and $Ae_2$ are vectors (of size $n \\times 1$). Suppose that $A = \\begin{pmatrix}a_1 & \\ldots & a_n\\\\b_1 & \\ldots & b_n \\end{pmatrix}^\\top$. Then we have $Ae_1 = \\begin{pmatrix}a_1 & \\ldots & a_n \\end{pmatrix}^\\top$ and $Ae_2 = \\begin{pmatrix}b_1 & \\ldots & b_n\\end{pmatrix}^\\top$.\n",
        "\n",
        "We have that $Ae_1$ and $Ae_2$ are two orthogonal vectors when $Ae_1 \\cdot {Ae_2}^\\top = 0 \\iff a_1 \\times b_1 + \\ldots + a_n \\times b_n = 0$.\n"
      ]
    }
  ]
}