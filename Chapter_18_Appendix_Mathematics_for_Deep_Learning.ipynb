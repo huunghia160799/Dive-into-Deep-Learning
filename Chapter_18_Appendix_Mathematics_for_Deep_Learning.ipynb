{
  "nbformat": 4,
  "nbformat_minor": 0,
  "metadata": {
    "colab": {
      "name": "Chapter 18. Appendix: Mathematics for Deep Learning.ipynb",
      "provenance": [],
      "collapsed_sections": [],
      "authorship_tag": "ABX9TyOqu86Jm0FR4sGKAk/p9hI/",
      "include_colab_link": true
    },
    "kernelspec": {
      "name": "python3",
      "display_name": "Python 3"
    }
  },
  "cells": [
    {
      "cell_type": "markdown",
      "metadata": {
        "id": "view-in-github",
        "colab_type": "text"
      },
      "source": [
        "<a href=\"https://colab.research.google.com/github/huunghia160799/Dive-into-Deep-Learning/blob/master/Chapter_18_Appendix_Mathematics_for_Deep_Learning.ipynb\" target=\"_parent\"><img src=\"https://colab.research.google.com/assets/colab-badge.svg\" alt=\"Open In Colab\"/></a>"
      ]
    },
    {
      "cell_type": "markdown",
      "metadata": {
        "id": "p9upf089zbBw",
        "colab_type": "text"
      },
      "source": [
        "### 18.1 Geometry and Linear Algebra"
      ]
    },
    {
      "cell_type": "markdown",
      "metadata": {
        "id": "CrI_8tB4LG24",
        "colab_type": "text"
      },
      "source": [
        "## Hyperplane"
      ]
    },
    {
      "cell_type": "code",
      "metadata": {
        "id": "Sz_DljpxLKF6",
        "colab_type": "code",
        "outputId": "cc1ac8b7-be41-40dc-ad74-a69a7c415310",
        "colab": {
          "base_uri": "https://localhost:8080/",
          "height": 305
        }
      },
      "source": [
        "!pip install mxnet"
      ],
      "execution_count": 0,
      "outputs": [
        {
          "output_type": "stream",
          "text": [
            "Collecting mxnet\n",
            "\u001b[?25l  Downloading https://files.pythonhosted.org/packages/81/f5/d79b5b40735086ff1100c680703e0f3efc830fa455e268e9e96f3c857e93/mxnet-1.6.0-py2.py3-none-any.whl (68.7MB)\n",
            "\u001b[K     |████████████████████████████████| 68.7MB 44kB/s \n",
            "\u001b[?25hCollecting graphviz<0.9.0,>=0.8.1\n",
            "  Downloading https://files.pythonhosted.org/packages/53/39/4ab213673844e0c004bed8a0781a0721a3f6bb23eb8854ee75c236428892/graphviz-0.8.4-py2.py3-none-any.whl\n",
            "Requirement already satisfied: numpy<2.0.0,>1.16.0 in /usr/local/lib/python3.6/dist-packages (from mxnet) (1.17.5)\n",
            "Requirement already satisfied: requests<3,>=2.20.0 in /usr/local/lib/python3.6/dist-packages (from mxnet) (2.21.0)\n",
            "Requirement already satisfied: idna<2.9,>=2.5 in /usr/local/lib/python3.6/dist-packages (from requests<3,>=2.20.0->mxnet) (2.8)\n",
            "Requirement already satisfied: certifi>=2017.4.17 in /usr/local/lib/python3.6/dist-packages (from requests<3,>=2.20.0->mxnet) (2019.11.28)\n",
            "Requirement already satisfied: chardet<3.1.0,>=3.0.2 in /usr/local/lib/python3.6/dist-packages (from requests<3,>=2.20.0->mxnet) (3.0.4)\n",
            "Requirement already satisfied: urllib3<1.25,>=1.21.1 in /usr/local/lib/python3.6/dist-packages (from requests<3,>=2.20.0->mxnet) (1.24.3)\n",
            "Installing collected packages: graphviz, mxnet\n",
            "  Found existing installation: graphviz 0.10.1\n",
            "    Uninstalling graphviz-0.10.1:\n",
            "      Successfully uninstalled graphviz-0.10.1\n",
            "Successfully installed graphviz-0.8.4 mxnet-1.6.0\n"
          ],
          "name": "stdout"
        }
      ]
    },
    {
      "cell_type": "code",
      "metadata": {
        "id": "9Bduc-dJL28f",
        "colab_type": "code",
        "outputId": "ca8026fb-00d9-4802-d27e-b1a73f86fe56",
        "colab": {
          "base_uri": "https://localhost:8080/",
          "height": 125
        }
      },
      "source": [
        "from mxnet.gluon.data.vision.datasets import FashionMNIST\n",
        "import numpy as np\n",
        "\n",
        "train = FashionMNIST(train=True)\n",
        "test = FashionMNIST(train=False)\n",
        "\n",
        "print(len(train))\n",
        "print(len(test))"
      ],
      "execution_count": 0,
      "outputs": [
        {
          "output_type": "stream",
          "text": [
            "Downloading /root/.mxnet/datasets/fashion-mnist/train-images-idx3-ubyte.gz from https://apache-mxnet.s3-accelerate.dualstack.amazonaws.com/gluon/dataset/fashion-mnist/train-images-idx3-ubyte.gz...\n",
            "Downloading /root/.mxnet/datasets/fashion-mnist/train-labels-idx1-ubyte.gz from https://apache-mxnet.s3-accelerate.dualstack.amazonaws.com/gluon/dataset/fashion-mnist/train-labels-idx1-ubyte.gz...\n",
            "Downloading /root/.mxnet/datasets/fashion-mnist/t10k-images-idx3-ubyte.gz from https://apache-mxnet.s3-accelerate.dualstack.amazonaws.com/gluon/dataset/fashion-mnist/t10k-images-idx3-ubyte.gz...\n",
            "Downloading /root/.mxnet/datasets/fashion-mnist/t10k-labels-idx1-ubyte.gz from https://apache-mxnet.s3-accelerate.dualstack.amazonaws.com/gluon/dataset/fashion-mnist/t10k-labels-idx1-ubyte.gz...\n",
            "60000\n",
            "10000\n"
          ],
          "name": "stdout"
        }
      ]
    },
    {
      "cell_type": "code",
      "metadata": {
        "id": "wa6_3_YDT1iR",
        "colab_type": "code",
        "colab": {}
      },
      "source": [
        "X_train_0 = np.stack([x[0] for x in train if x[1] == 0]).astype(float)\n",
        "X_train_1 = np.stack([x[0] for x in train if x[1] == 1]).astype(float)\n",
        "X_test = np.stack(\n",
        "    [x[0] for x in test if x[1] == 0 or x[1] == 1]).astype(float)\n",
        "y_test = np.stack(\n",
        "    [x[1] for x in test if x[1] == 0 or x[1] == 1]).astype(float)\n",
        "\n",
        "# Compute averages\n",
        "ave_0 = np.mean(X_train_0, axis=0)\n",
        "ave_1 = np.mean(X_train_1, axis=0)"
      ],
      "execution_count": 0,
      "outputs": []
    },
    {
      "cell_type": "markdown",
      "metadata": {
        "id": "YXplRHyyw1GA",
        "colab_type": "text"
      },
      "source": [
        "## Exercises\n",
        "\n",
        "1.\n",
        "The angle between $\\vec{v_1}$ and $\\vec{v_2}$ is $\\arccos \\frac{\\vec{v_1} \\cdot \\vec{v_2}}{|\\vec{a_1}||\\vec{a_2}|} = \\arccos \\frac{3}{2 \\sqrt{11}} \\approx 63^{\\circ}$.\n",
        "\n",
        "2.\n",
        "$\\begin{bmatrix}1 & 2 \\\\ 0 & 1\\end{bmatrix}$ $\\begin{bmatrix}1 & -2 \\\\ 0 &1\\end{bmatrix}$ $= \\begin{bmatrix}1 & 0 \\\\ 0 & 1 \\end{bmatrix}$.\n",
        "\n",
        "The result of the matrix multiplication is an identity matrix, so the two matrix are the inverses of each other.\n",
        "\n",
        "3.\n",
        "The determinant of the matrix $\\det{\\begin{bmatrix}2 & 3 \\\\ 1 & 2 \\end{bmatrix}} = 1$. Therefore, the area of the shape after the transformation is $100 \\times 1 = 100 (m^2)$.\n",
        "\n",
        "4.\n",
        "The sets of vectors that are linearly independent are\n",
        "$\\left\\{\\begin{pmatrix}1\\\\0\\\\-1\\end{pmatrix}, \\begin{pmatrix}2\\\\1\\\\-1\\end{pmatrix}, \\begin{pmatrix}3\\\\1\\\\1\\end{pmatrix}\\right\\}$,\n",
        "$\\left\\{\\begin{pmatrix}1\\\\1\\\\0\\end{pmatrix}, \\begin{pmatrix}0\\\\1\\\\-1\\end{pmatrix}, \\begin{pmatrix}1\\\\0\\\\1\\end{pmatrix}\\right\\}.$\n",
        "\n",
        "5.\n",
        "This is true since $\\det(\\begin{bmatrix}c\\\\d\\end{bmatrix}\\begin{bmatrix}a&b\\end{bmatrix}) = \\det (\\begin{bmatrix}ca&cb\\\\da&db\\end{bmatrix}) = cadb - cbda = 0.$\n",
        "\n",
        "6.\n",
        "Firstly, the matrix $A$ must of of size $n \\times 2$ to ensure that $Ae_1$ and $Ae_2$ are vectors (of size $n \\times 1$). Suppose that $A = \\begin{pmatrix}a_1 & \\ldots & a_n\\\\b_1 & \\ldots & b_n \\end{pmatrix}^\\top$. Then we have $Ae_1 = \\begin{pmatrix}a_1 & \\ldots & a_n \\end{pmatrix}^\\top$ and $Ae_2 = \\begin{pmatrix}b_1 & \\ldots & b_n\\end{pmatrix}^\\top$.\n",
        "\n",
        "We have that $Ae_1$ and $Ae_2$ are two orthogonal vectors when $Ae_1 \\cdot {Ae_2}^\\top = 0 \\iff a_1 \\times b_1 + \\ldots + a_n \\times b_n = 0$.\n",
        "\n",
        "7.\n",
        "We have that $\\mathrm{tr}(A^4) = \\mathrm{tr}(A^2 A^2) = \\mathrm{tr}(a_{ij} a_{ji} a_{ij} a_{ji}) = (a_{ij} a_{ji} a_{ij} a_{ji})_{ii}.$\n"
      ]
    },
    {
      "cell_type": "markdown",
      "metadata": {
        "id": "yn0MBDd1Ujvl",
        "colab_type": "text"
      },
      "source": [
        "# 18.2. Eigendecompositions"
      ]
    },
    {
      "cell_type": "code",
      "metadata": {
        "id": "pGgaiErivPFG",
        "colab_type": "code",
        "outputId": "cde751ea-e040-4f57-ce11-4a9ca83ebf81",
        "colab": {
          "base_uri": "https://localhost:8080/",
          "height": 1000
        }
      },
      "source": [
        "!pip install mxnet\n",
        "!pip install d2l"
      ],
      "execution_count": 0,
      "outputs": [
        {
          "output_type": "stream",
          "text": [
            "Collecting mxnet\n",
            "\u001b[?25l  Downloading https://files.pythonhosted.org/packages/81/f5/d79b5b40735086ff1100c680703e0f3efc830fa455e268e9e96f3c857e93/mxnet-1.6.0-py2.py3-none-any.whl (68.7MB)\n",
            "\u001b[K     |████████████████████████████████| 68.7MB 54kB/s \n",
            "\u001b[?25hRequirement already satisfied: numpy<2.0.0,>1.16.0 in /usr/local/lib/python3.6/dist-packages (from mxnet) (1.17.5)\n",
            "Requirement already satisfied: requests<3,>=2.20.0 in /usr/local/lib/python3.6/dist-packages (from mxnet) (2.21.0)\n",
            "Collecting graphviz<0.9.0,>=0.8.1\n",
            "  Downloading https://files.pythonhosted.org/packages/53/39/4ab213673844e0c004bed8a0781a0721a3f6bb23eb8854ee75c236428892/graphviz-0.8.4-py2.py3-none-any.whl\n",
            "Requirement already satisfied: idna<2.9,>=2.5 in /usr/local/lib/python3.6/dist-packages (from requests<3,>=2.20.0->mxnet) (2.8)\n",
            "Requirement already satisfied: urllib3<1.25,>=1.21.1 in /usr/local/lib/python3.6/dist-packages (from requests<3,>=2.20.0->mxnet) (1.24.3)\n",
            "Requirement already satisfied: certifi>=2017.4.17 in /usr/local/lib/python3.6/dist-packages (from requests<3,>=2.20.0->mxnet) (2019.11.28)\n",
            "Requirement already satisfied: chardet<3.1.0,>=3.0.2 in /usr/local/lib/python3.6/dist-packages (from requests<3,>=2.20.0->mxnet) (3.0.4)\n",
            "Installing collected packages: graphviz, mxnet\n",
            "  Found existing installation: graphviz 0.10.1\n",
            "    Uninstalling graphviz-0.10.1:\n",
            "      Successfully uninstalled graphviz-0.10.1\n",
            "Successfully installed graphviz-0.8.4 mxnet-1.6.0\n",
            "Collecting d2l\n",
            "  Downloading https://files.pythonhosted.org/packages/22/07/e8e57f2a8ea3c6222a299d4261782dda57e7fa10897db2a86706be05a592/d2l-0.11.3-py3-none-any.whl\n",
            "Requirement already satisfied: numpy in /usr/local/lib/python3.6/dist-packages (from d2l) (1.17.5)\n",
            "Requirement already satisfied: pandas in /usr/local/lib/python3.6/dist-packages (from d2l) (0.25.3)\n",
            "Requirement already satisfied: matplotlib in /usr/local/lib/python3.6/dist-packages (from d2l) (3.1.3)\n",
            "Requirement already satisfied: jupyter in /usr/local/lib/python3.6/dist-packages (from d2l) (1.0.0)\n",
            "Requirement already satisfied: pytz>=2017.2 in /usr/local/lib/python3.6/dist-packages (from pandas->d2l) (2018.9)\n",
            "Requirement already satisfied: python-dateutil>=2.6.1 in /usr/local/lib/python3.6/dist-packages (from pandas->d2l) (2.6.1)\n",
            "Requirement already satisfied: cycler>=0.10 in /usr/local/lib/python3.6/dist-packages (from matplotlib->d2l) (0.10.0)\n",
            "Requirement already satisfied: kiwisolver>=1.0.1 in /usr/local/lib/python3.6/dist-packages (from matplotlib->d2l) (1.1.0)\n",
            "Requirement already satisfied: pyparsing!=2.0.4,!=2.1.2,!=2.1.6,>=2.0.1 in /usr/local/lib/python3.6/dist-packages (from matplotlib->d2l) (2.4.6)\n",
            "Requirement already satisfied: nbconvert in /usr/local/lib/python3.6/dist-packages (from jupyter->d2l) (5.6.1)\n",
            "Requirement already satisfied: ipykernel in /usr/local/lib/python3.6/dist-packages (from jupyter->d2l) (4.6.1)\n",
            "Requirement already satisfied: jupyter-console in /usr/local/lib/python3.6/dist-packages (from jupyter->d2l) (5.2.0)\n",
            "Requirement already satisfied: qtconsole in /usr/local/lib/python3.6/dist-packages (from jupyter->d2l) (4.6.0)\n",
            "Requirement already satisfied: notebook in /usr/local/lib/python3.6/dist-packages (from jupyter->d2l) (5.2.2)\n",
            "Requirement already satisfied: ipywidgets in /usr/local/lib/python3.6/dist-packages (from jupyter->d2l) (7.5.1)\n",
            "Requirement already satisfied: six>=1.5 in /usr/local/lib/python3.6/dist-packages (from python-dateutil>=2.6.1->pandas->d2l) (1.12.0)\n",
            "Requirement already satisfied: setuptools in /usr/local/lib/python3.6/dist-packages (from kiwisolver>=1.0.1->matplotlib->d2l) (45.1.0)\n",
            "Requirement already satisfied: jupyter-core in /usr/local/lib/python3.6/dist-packages (from nbconvert->jupyter->d2l) (4.6.2)\n",
            "Requirement already satisfied: pandocfilters>=1.4.1 in /usr/local/lib/python3.6/dist-packages (from nbconvert->jupyter->d2l) (1.4.2)\n",
            "Requirement already satisfied: entrypoints>=0.2.2 in /usr/local/lib/python3.6/dist-packages (from nbconvert->jupyter->d2l) (0.3)\n",
            "Requirement already satisfied: defusedxml in /usr/local/lib/python3.6/dist-packages (from nbconvert->jupyter->d2l) (0.6.0)\n",
            "Requirement already satisfied: bleach in /usr/local/lib/python3.6/dist-packages (from nbconvert->jupyter->d2l) (3.1.0)\n",
            "Requirement already satisfied: mistune<2,>=0.8.1 in /usr/local/lib/python3.6/dist-packages (from nbconvert->jupyter->d2l) (0.8.4)\n",
            "Requirement already satisfied: traitlets>=4.2 in /usr/local/lib/python3.6/dist-packages (from nbconvert->jupyter->d2l) (4.3.3)\n",
            "Requirement already satisfied: jinja2>=2.4 in /usr/local/lib/python3.6/dist-packages (from nbconvert->jupyter->d2l) (2.11.1)\n",
            "Requirement already satisfied: pygments in /usr/local/lib/python3.6/dist-packages (from nbconvert->jupyter->d2l) (2.1.3)\n",
            "Requirement already satisfied: nbformat>=4.4 in /usr/local/lib/python3.6/dist-packages (from nbconvert->jupyter->d2l) (5.0.4)\n",
            "Requirement already satisfied: testpath in /usr/local/lib/python3.6/dist-packages (from nbconvert->jupyter->d2l) (0.4.4)\n",
            "Requirement already satisfied: ipython>=4.0.0 in /usr/local/lib/python3.6/dist-packages (from ipykernel->jupyter->d2l) (5.5.0)\n",
            "Requirement already satisfied: jupyter-client in /usr/local/lib/python3.6/dist-packages (from ipykernel->jupyter->d2l) (5.3.4)\n",
            "Requirement already satisfied: tornado>=4.0 in /usr/local/lib/python3.6/dist-packages (from ipykernel->jupyter->d2l) (4.5.3)\n",
            "Requirement already satisfied: prompt-toolkit<2.0.0,>=1.0.0 in /usr/local/lib/python3.6/dist-packages (from jupyter-console->jupyter->d2l) (1.0.18)\n",
            "Requirement already satisfied: ipython-genutils in /usr/local/lib/python3.6/dist-packages (from qtconsole->jupyter->d2l) (0.2.0)\n",
            "Requirement already satisfied: terminado>=0.3.3; sys_platform != \"win32\" in /usr/local/lib/python3.6/dist-packages (from notebook->jupyter->d2l) (0.8.3)\n",
            "Requirement already satisfied: widgetsnbextension~=3.5.0 in /usr/local/lib/python3.6/dist-packages (from ipywidgets->jupyter->d2l) (3.5.1)\n",
            "Requirement already satisfied: webencodings in /usr/local/lib/python3.6/dist-packages (from bleach->nbconvert->jupyter->d2l) (0.5.1)\n",
            "Requirement already satisfied: decorator in /usr/local/lib/python3.6/dist-packages (from traitlets>=4.2->nbconvert->jupyter->d2l) (4.4.1)\n",
            "Requirement already satisfied: MarkupSafe>=0.23 in /usr/local/lib/python3.6/dist-packages (from jinja2>=2.4->nbconvert->jupyter->d2l) (1.1.1)\n",
            "Requirement already satisfied: jsonschema!=2.5.0,>=2.4 in /usr/local/lib/python3.6/dist-packages (from nbformat>=4.4->nbconvert->jupyter->d2l) (2.6.0)\n",
            "Requirement already satisfied: pickleshare in /usr/local/lib/python3.6/dist-packages (from ipython>=4.0.0->ipykernel->jupyter->d2l) (0.7.5)\n",
            "Requirement already satisfied: simplegeneric>0.8 in /usr/local/lib/python3.6/dist-packages (from ipython>=4.0.0->ipykernel->jupyter->d2l) (0.8.1)\n",
            "Requirement already satisfied: pexpect; sys_platform != \"win32\" in /usr/local/lib/python3.6/dist-packages (from ipython>=4.0.0->ipykernel->jupyter->d2l) (4.8.0)\n",
            "Requirement already satisfied: pyzmq>=13 in /usr/local/lib/python3.6/dist-packages (from jupyter-client->ipykernel->jupyter->d2l) (17.0.0)\n",
            "Requirement already satisfied: wcwidth in /usr/local/lib/python3.6/dist-packages (from prompt-toolkit<2.0.0,>=1.0.0->jupyter-console->jupyter->d2l) (0.1.8)\n",
            "Requirement already satisfied: ptyprocess; os_name != \"nt\" in /usr/local/lib/python3.6/dist-packages (from terminado>=0.3.3; sys_platform != \"win32\"->notebook->jupyter->d2l) (0.6.0)\n",
            "Installing collected packages: d2l\n",
            "Successfully installed d2l-0.11.3\n"
          ],
          "name": "stdout"
        }
      ]
    },
    {
      "cell_type": "code",
      "metadata": {
        "id": "OwTW6NdUu4w5",
        "colab_type": "code",
        "outputId": "11952645-82d0-483f-bd9b-04feef8965d4",
        "colab": {
          "base_uri": "https://localhost:8080/",
          "height": 53
        }
      },
      "source": [
        "import d2l\n",
        "from IPython import display\n",
        "import numpy as np\n",
        "\n",
        "np.linalg.eig([[2, 1], [2, 3]])"
      ],
      "execution_count": 0,
      "outputs": [
        {
          "output_type": "execute_result",
          "data": {
            "text/plain": [
              "(array([1., 4.]), array([[-0.70710678, -0.4472136 ],\n",
              "        [ 0.70710678, -0.89442719]]))"
            ]
          },
          "metadata": {
            "tags": []
          },
          "execution_count": 4
        }
      ]
    },
    {
      "cell_type": "code",
      "metadata": {
        "id": "_Q_43i7QB1Se",
        "colab_type": "code",
        "outputId": "660368cb-0263-4f80-d977-e77d575bf10a",
        "colab": {
          "base_uri": "https://localhost:8080/",
          "height": 35
        }
      },
      "source": [
        "A = np.array([[1.0, 0.1, 0.1, 0.1],\n",
        "              [0.1, 3.0, 0.2, 0.3],\n",
        "              [0.1, 0.2, 5.0, 0.5],\n",
        "              [0.1, 0.3, 0.5, 9.0]])\n",
        "\n",
        "v, _ = np.linalg.eig(A)\n",
        "v"
      ],
      "execution_count": 0,
      "outputs": [
        {
          "output_type": "execute_result",
          "data": {
            "text/plain": [
              "array([9.08033648, 0.99228545, 4.95394089, 2.97343718])"
            ]
          },
          "metadata": {
            "tags": []
          },
          "execution_count": 6
        }
      ]
    },
    {
      "cell_type": "markdown",
      "metadata": {
        "id": "dUroyU0hUWrg",
        "colab_type": "text"
      },
      "source": [
        "## Exercises\n",
        "\n",
        "1. What are the eigenvalues and eigenvectors of $\\mathbf{A} = \\begin{bmatrix} 2 & 1 \\\\ 1 & 2 \\\\ \\end{bmatrix}?$\n",
        "\n",
        "- From solving the equation $A \\mathbf{x} = \\lambda \\mathbf{x}$, we have two possible eigenvalues: $\\lambda = 3, \\lambda = 1$.\n",
        "    - With $\\lambda=3$, the corresponding eigenvector is \\begin{bmatrix}1 \\\\ 1\\end{bmatrix}\n",
        "    - With $\\lambda=1$, the corresponding eigenvector is \\begin{bmatrix}1 \\\\ -1\\end{bmatrix}\n",
        "\n",
        "2. What are the eigenvalues and eigenvectors of the following matrix,\n",
        "   and what is strange about this example compared to the previous one?\n",
        "$\\mathbf{A} = $\\begin{bmatrix}\n",
        "      2 & 1 \\\\\n",
        "      0 & 2\n",
        "      \\end{bmatrix}.\n",
        "- From solving the equation $A \\mathbf{x} = \\lambda \\mathbf{x}$, we have only one eigenvalue: $\\lambda=2$.\n",
        "    - With $\\lambda=2$, the corresponding eigenvector is \\begin{bmatrix} 0 \\\\ b \\end{bmatrix} with $b \\in \\mathbf{R}$.\n",
        "\n",
        "3. Without computing the eigenvalues, is it possible that the smallest\n",
        "   eigenvalue of the following matrix is less that `0.5`? *Note*:\n",
        "   this problem can be done in your head.\n",
        "\n",
        "   $\\mathbf{A} =$ \\begin{bmatrix}\n",
        "      3.0 & 0.1 & 0.3 & 1.0 \\\\\n",
        "      0.1 & 1.0 & 0.1 & 0.2 \\\\\n",
        "      0.3 & 0.1 & 5.0 & 0.0 \\\\\n",
        "      1.0 & 0.2 & 0.0 & 1.8 \\\\\n",
        "      \\end{bmatrix}.\n",
        "- Using Gershgorin Circle Theorem, we can estimate that the range of the possible eigenvalues. We have $r_1 = 1.4, r_2 = 0.4, r_3 = 0.4, r_4 = 1.2$, so the possible range of values for the eigenvalues are:\n",
        "    - $[3 - 1.4, 3 + 1.4] = [1.6, 4.4]$\n",
        "    - $[1 - 0.4, 1 + 0.4] = [0.6, 1.4]$\n",
        "    - $[5 - 0.4, 5 + 0.4] = [4.6, 5.4]$\n",
        "    - $[1.8 - 0.4, 1.8 + 0.4] = [1.4, 2.2]$\n",
        "- With these range calculated, it is trivial to see that the value of the smallest eigenvalue is only 0.6, so it can never be less than 0.5."
      ]
    },
    {
      "cell_type": "markdown",
      "metadata": {
        "id": "6jsOtlIS8h0S",
        "colab_type": "text"
      },
      "source": [
        "# 18.3. Single Variable Calculus\n"
      ]
    },
    {
      "cell_type": "markdown",
      "metadata": {
        "id": "HG9tjOEO845M",
        "colab_type": "text"
      },
      "source": [
        "## Exercises\n",
        "\n",
        "1.\n",
        "The derivative of $x^3 - 4x + 1$ is $3x^2 - 4$.\n",
        "\n",
        "2.\n",
        "The derivative of $log(\\frac{1}{x})$:\n",
        "\n",
        "$(log(\\frac{1}{x}))' = \\frac{1}{1/x} (\\frac{1}{x})' = x \\frac{1}{x^2} = \\frac{1}{x}$.\n",
        "\n",
        "3.\n",
        "If the only information we have is $f'(x) = 0$, we are not sure if $f$ has a minimum or a maximum at 0. In order to be certain, we must examine the value of $f''(x)$:\n",
        "- If $f''(x) > 0$, $f$ has a minimum at $x$.\n",
        "- If $f''(x) < 0$, $f$ has a maximum at $x$.\n",
        "- If $f''(x) = 0$, $f$ has no local optimum.\n",
        "\n",
        "4.\n",
        "We have that:\n",
        "\n",
        "- $f'(x) = log(x) + x \\frac{1}{x} = log(x) + 1$\n",
        "\n",
        "At a local optimum of $f(x)$, the value of $f'(x) must be 0:\n",
        "\n",
        "- $f'(x) = 0 \\iff log(x) = -1 \\iff x = e^{-1}.$\n",
        "\n",
        "- $f'(e^{-1}) = e > 0$.\n",
        "\n",
        "- $f(e^-1) = e^{-1}$.\n",
        "\n",
        "Therefore, the minimum of $f(x), x \\ge 0$ is $e^{-1}$ at $x = e^{-1}$.\n"
      ]
    }
  ]
}