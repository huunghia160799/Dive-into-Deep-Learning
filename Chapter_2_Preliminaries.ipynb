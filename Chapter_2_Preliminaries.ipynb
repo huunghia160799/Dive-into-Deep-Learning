{
  "nbformat": 4,
  "nbformat_minor": 0,
  "metadata": {
    "colab": {
      "name": "Chapter_2_Preliminaries.ipynb",
      "provenance": [],
      "collapsed_sections": [],
      "authorship_tag": "ABX9TyNuJMjAJ+KoxoP9TyDLeiNG",
      "include_colab_link": true
    },
    "kernelspec": {
      "name": "python3",
      "display_name": "Python 3"
    }
  },
  "cells": [
    {
      "cell_type": "markdown",
      "metadata": {
        "id": "view-in-github",
        "colab_type": "text"
      },
      "source": [
        "<a href=\"https://colab.research.google.com/github/huunghia160799/Dive-into-Deep-Learning/blob/master/Chapter_2_Preliminaries.ipynb\" target=\"_parent\"><img src=\"https://colab.research.google.com/assets/colab-badge.svg\" alt=\"Open In Colab\"/></a>"
      ]
    },
    {
      "cell_type": "markdown",
      "metadata": {
        "id": "X1tM6GgyxJya",
        "colab_type": "text"
      },
      "source": [
        "# 2.1. Data Manipulation"
      ]
    },
    {
      "cell_type": "code",
      "metadata": {
        "id": "iw5gY_WBzfsB",
        "colab_type": "code",
        "outputId": "8c541dea-f9c5-4341-e925-d14d155c81e2",
        "colab": {
          "base_uri": "https://localhost:8080/",
          "height": 305
        }
      },
      "source": [
        "!pip install mxnet"
      ],
      "execution_count": 2,
      "outputs": [
        {
          "output_type": "stream",
          "text": [
            "Collecting mxnet\n",
            "\u001b[?25l  Downloading https://files.pythonhosted.org/packages/81/f5/d79b5b40735086ff1100c680703e0f3efc830fa455e268e9e96f3c857e93/mxnet-1.6.0-py2.py3-none-any.whl (68.7MB)\n",
            "\u001b[K     |████████████████████████████████| 68.7MB 64kB/s \n",
            "\u001b[?25hRequirement already satisfied: requests<3,>=2.20.0 in /usr/local/lib/python3.6/dist-packages (from mxnet) (2.21.0)\n",
            "Requirement already satisfied: numpy<2.0.0,>1.16.0 in /usr/local/lib/python3.6/dist-packages (from mxnet) (1.18.1)\n",
            "Collecting graphviz<0.9.0,>=0.8.1\n",
            "  Downloading https://files.pythonhosted.org/packages/53/39/4ab213673844e0c004bed8a0781a0721a3f6bb23eb8854ee75c236428892/graphviz-0.8.4-py2.py3-none-any.whl\n",
            "Requirement already satisfied: urllib3<1.25,>=1.21.1 in /usr/local/lib/python3.6/dist-packages (from requests<3,>=2.20.0->mxnet) (1.24.3)\n",
            "Requirement already satisfied: idna<2.9,>=2.5 in /usr/local/lib/python3.6/dist-packages (from requests<3,>=2.20.0->mxnet) (2.8)\n",
            "Requirement already satisfied: chardet<3.1.0,>=3.0.2 in /usr/local/lib/python3.6/dist-packages (from requests<3,>=2.20.0->mxnet) (3.0.4)\n",
            "Requirement already satisfied: certifi>=2017.4.17 in /usr/local/lib/python3.6/dist-packages (from requests<3,>=2.20.0->mxnet) (2019.11.28)\n",
            "Installing collected packages: graphviz, mxnet\n",
            "  Found existing installation: graphviz 0.10.1\n",
            "    Uninstalling graphviz-0.10.1:\n",
            "      Successfully uninstalled graphviz-0.10.1\n",
            "Successfully installed graphviz-0.8.4 mxnet-1.6.0\n"
          ],
          "name": "stdout"
        }
      ]
    },
    {
      "cell_type": "code",
      "metadata": {
        "id": "KZnbEVsByd64",
        "colab_type": "code",
        "colab": {}
      },
      "source": [
        "from mxnet import np, npx\n",
        "npx.set_np()"
      ],
      "execution_count": 0,
      "outputs": []
    },
    {
      "cell_type": "code",
      "metadata": {
        "id": "2fPG7jni1BeS",
        "colab_type": "code",
        "outputId": "0940ccd2-ed25-4f99-d7f6-6308b18c40c9",
        "colab": {
          "base_uri": "https://localhost:8080/",
          "height": 35
        }
      },
      "source": [
        "x = np.arange(12)\n",
        "x"
      ],
      "execution_count": 0,
      "outputs": [
        {
          "output_type": "execute_result",
          "data": {
            "text/plain": [
              "array([ 0.,  1.,  2.,  3.,  4.,  5.,  6.,  7.,  8.,  9., 10., 11.])"
            ]
          },
          "metadata": {
            "tags": []
          },
          "execution_count": 24
        }
      ]
    },
    {
      "cell_type": "code",
      "metadata": {
        "id": "o0JNaetM1RGc",
        "colab_type": "code",
        "outputId": "0b39bff7-c284-49f5-8112-4820682cc7c9",
        "colab": {
          "base_uri": "https://localhost:8080/",
          "height": 71
        }
      },
      "source": [
        "x = x.reshape((3, 4))\n",
        "x"
      ],
      "execution_count": 0,
      "outputs": [
        {
          "output_type": "execute_result",
          "data": {
            "text/plain": [
              "array([[ 0.,  1.,  2.,  3.],\n",
              "       [ 4.,  5.,  6.,  7.],\n",
              "       [ 8.,  9., 10., 11.]])"
            ]
          },
          "metadata": {
            "tags": []
          },
          "execution_count": 25
        }
      ]
    },
    {
      "cell_type": "code",
      "metadata": {
        "id": "akJ5Jg0R1l8-",
        "colab_type": "code",
        "outputId": "344f77e4-55ec-410c-f451-a057f7bb4b24",
        "colab": {
          "base_uri": "https://localhost:8080/",
          "height": 71
        }
      },
      "source": [
        "x = np.empty((3, 4))\n",
        "x"
      ],
      "execution_count": 0,
      "outputs": [
        {
          "output_type": "execute_result",
          "data": {
            "text/plain": [
              "array([[1.7221577e-37, 0.0000000e+00, 0.0000000e+00, 0.0000000e+00],\n",
              "       [0.0000000e+00, 0.0000000e+00, 0.0000000e+00, 0.0000000e+00],\n",
              "       [0.0000000e+00, 0.0000000e+00, 0.0000000e+00, 0.0000000e+00]])"
            ]
          },
          "metadata": {
            "tags": []
          },
          "execution_count": 26
        }
      ]
    },
    {
      "cell_type": "code",
      "metadata": {
        "id": "cJDzbT4S1yLt",
        "colab_type": "code",
        "outputId": "7e3961e0-7dd2-4ec7-d0b9-f7d66c81a2ac",
        "colab": {
          "base_uri": "https://localhost:8080/",
          "height": 143
        }
      },
      "source": [
        "np.zeros((2, 3, 4))"
      ],
      "execution_count": 0,
      "outputs": [
        {
          "output_type": "execute_result",
          "data": {
            "text/plain": [
              "array([[[0., 0., 0., 0.],\n",
              "        [0., 0., 0., 0.],\n",
              "        [0., 0., 0., 0.]],\n",
              "\n",
              "       [[0., 0., 0., 0.],\n",
              "        [0., 0., 0., 0.],\n",
              "        [0., 0., 0., 0.]]])"
            ]
          },
          "metadata": {
            "tags": []
          },
          "execution_count": 27
        }
      ]
    },
    {
      "cell_type": "code",
      "metadata": {
        "id": "_eDJWFM910Vt",
        "colab_type": "code",
        "outputId": "3318c09a-b5b8-4928-e2c0-c694969c666a",
        "colab": {
          "base_uri": "https://localhost:8080/",
          "height": 143
        }
      },
      "source": [
        "np.ones((2, 3, 4))"
      ],
      "execution_count": 0,
      "outputs": [
        {
          "output_type": "execute_result",
          "data": {
            "text/plain": [
              "array([[[1., 1., 1., 1.],\n",
              "        [1., 1., 1., 1.],\n",
              "        [1., 1., 1., 1.]],\n",
              "\n",
              "       [[1., 1., 1., 1.],\n",
              "        [1., 1., 1., 1.],\n",
              "        [1., 1., 1., 1.]]])"
            ]
          },
          "metadata": {
            "tags": []
          },
          "execution_count": 28
        }
      ]
    },
    {
      "cell_type": "code",
      "metadata": {
        "id": "dEBKNyIT3UZ8",
        "colab_type": "code",
        "outputId": "62714ff2-f55d-49ba-a663-71c7b8cae8b6",
        "colab": {
          "base_uri": "https://localhost:8080/",
          "height": 71
        }
      },
      "source": [
        "np.random.normal(0, 1, size=(3, 4))"
      ],
      "execution_count": 0,
      "outputs": [
        {
          "output_type": "execute_result",
          "data": {
            "text/plain": [
              "array([[-1.771029  , -0.5459446 , -0.45138445, -2.3556297 ],\n",
              "       [ 0.57938355,  0.5414402 , -1.856082  ,  2.6785066 ],\n",
              "       [-1.9768796 ,  1.2546344 , -0.20801921, -0.54877394]])"
            ]
          },
          "metadata": {
            "tags": []
          },
          "execution_count": 29
        }
      ]
    },
    {
      "cell_type": "code",
      "metadata": {
        "id": "sT_TLmDy6pow",
        "colab_type": "code",
        "outputId": "5279e775-570e-44d6-a99c-9d5a8fd9813e",
        "colab": {
          "base_uri": "https://localhost:8080/",
          "height": 107
        }
      },
      "source": [
        "x = np.array([1, 2, 4, 8])\n",
        "y = np.array([2, 2, 2, 2])\n",
        "x + y, x - y, x * y, x / y, x ** y"
      ],
      "execution_count": 0,
      "outputs": [
        {
          "output_type": "execute_result",
          "data": {
            "text/plain": [
              "(array([ 3.,  4.,  6., 10.]),\n",
              " array([-1.,  0.,  2.,  6.]),\n",
              " array([ 2.,  4.,  8., 16.]),\n",
              " array([0.5, 1. , 2. , 4. ]),\n",
              " array([ 1.,  4., 16., 64.]))"
            ]
          },
          "metadata": {
            "tags": []
          },
          "execution_count": 30
        }
      ]
    },
    {
      "cell_type": "code",
      "metadata": {
        "id": "MNcBLRqZ8CGN",
        "colab_type": "code",
        "outputId": "69a7ccd4-8399-4175-f25a-23ffa7a3d759",
        "colab": {
          "base_uri": "https://localhost:8080/",
          "height": 179
        }
      },
      "source": [
        "x = np.arange(12).reshape(3, 4)\n",
        "y = np.array([[2, 1, 4, 3], [1, 2, 3, 4], [4, 3, 2, 1]])\n",
        "np.concatenate([x, y], axis=0), np.concatenate([x, y], axis=1)"
      ],
      "execution_count": 0,
      "outputs": [
        {
          "output_type": "execute_result",
          "data": {
            "text/plain": [
              "(array([[ 0.,  1.,  2.,  3.],\n",
              "        [ 4.,  5.,  6.,  7.],\n",
              "        [ 8.,  9., 10., 11.],\n",
              "        [ 2.,  1.,  4.,  3.],\n",
              "        [ 1.,  2.,  3.,  4.],\n",
              "        [ 4.,  3.,  2.,  1.]]),\n",
              " array([[ 0.,  1.,  2.,  3.,  2.,  1.,  4.,  3.],\n",
              "        [ 4.,  5.,  6.,  7.,  1.,  2.,  3.,  4.],\n",
              "        [ 8.,  9., 10., 11.,  4.,  3.,  2.,  1.]]))"
            ]
          },
          "metadata": {
            "tags": []
          },
          "execution_count": 31
        }
      ]
    },
    {
      "cell_type": "code",
      "metadata": {
        "id": "tMmkRf428FGD",
        "colab_type": "code",
        "outputId": "63facd81-b2b0-4490-a8dc-0d586d431eed",
        "colab": {
          "base_uri": "https://localhost:8080/",
          "height": 233
        }
      },
      "source": [
        "x = np.arange(12).reshape(3, 4)\n",
        "y = np.array([[2, 1, 4, 3], [1, 2, 3, 4], [4, 3, 2, 1]])\n",
        "z = np.ones((3, 4))\n",
        "np.concatenate([x, y, z], axis=0), np.concatenate([x, y, z], axis=1)"
      ],
      "execution_count": 0,
      "outputs": [
        {
          "output_type": "execute_result",
          "data": {
            "text/plain": [
              "(array([[ 0.,  1.,  2.,  3.],\n",
              "        [ 4.,  5.,  6.,  7.],\n",
              "        [ 8.,  9., 10., 11.],\n",
              "        [ 2.,  1.,  4.,  3.],\n",
              "        [ 1.,  2.,  3.,  4.],\n",
              "        [ 4.,  3.,  2.,  1.],\n",
              "        [ 1.,  1.,  1.,  1.],\n",
              "        [ 1.,  1.,  1.,  1.],\n",
              "        [ 1.,  1.,  1.,  1.]]),\n",
              " array([[ 0.,  1.,  2.,  3.,  2.,  1.,  4.,  3.,  1.,  1.,  1.,  1.],\n",
              "        [ 4.,  5.,  6.,  7.,  1.,  2.,  3.,  4.,  1.,  1.,  1.,  1.],\n",
              "        [ 8.,  9., 10., 11.,  4.,  3.,  2.,  1.,  1.,  1.,  1.,  1.]]))"
            ]
          },
          "metadata": {
            "tags": []
          },
          "execution_count": 32
        }
      ]
    },
    {
      "cell_type": "markdown",
      "metadata": {
        "id": "0AO-VHa1MoK_",
        "colab_type": "text"
      },
      "source": [
        "## Exercises"
      ]
    },
    {
      "cell_type": "code",
      "metadata": {
        "id": "Qfo8J9xgMrzU",
        "colab_type": "code",
        "outputId": "3f421422-2128-4395-8e8a-a689aee52c91",
        "colab": {
          "base_uri": "https://localhost:8080/",
          "height": 125
        }
      },
      "source": [
        "# 1\n",
        "x = np.arange(12).reshape(3, 4)\n",
        "y = np.array([[2, 1, 4, 3], [1, 2, 3, 4], [4, 3, 2, 1]])\n",
        "np.concatenate([x, y], axis=0), np.concatenate([x, y], axis=1)\n",
        "\n",
        "print(x < y)\n",
        "print(x > y)"
      ],
      "execution_count": 0,
      "outputs": [
        {
          "output_type": "stream",
          "text": [
            "[[ True False  True False]\n",
            " [False False False False]\n",
            " [False False False False]]\n",
            "[[False False False False]\n",
            " [ True  True  True  True]\n",
            " [ True  True  True  True]]\n"
          ],
          "name": "stdout"
        }
      ]
    },
    {
      "cell_type": "code",
      "metadata": {
        "id": "5Y5DWINbNhx5",
        "colab_type": "code",
        "outputId": "de5563b7-8d00-4358-b4d5-9c646f03e055",
        "colab": {
          "base_uri": "https://localhost:8080/",
          "height": 107
        }
      },
      "source": [
        "# 2\n",
        "a = np.arange(4).reshape(2, 2, 1)\n",
        "b = np.arange(6).reshape(1, 2, 3)\n",
        "a + b"
      ],
      "execution_count": 0,
      "outputs": [
        {
          "output_type": "execute_result",
          "data": {
            "text/plain": [
              "array([[[0., 1., 2.],\n",
              "        [4., 5., 6.]],\n",
              "\n",
              "       [[2., 3., 4.],\n",
              "        [6., 7., 8.]]])"
            ]
          },
          "metadata": {
            "tags": []
          },
          "execution_count": 34
        }
      ]
    },
    {
      "cell_type": "markdown",
      "metadata": {
        "id": "PmUHaephQp4r",
        "colab_type": "text"
      },
      "source": [
        "# 2.2. Data preprocessing"
      ]
    },
    {
      "cell_type": "code",
      "metadata": {
        "id": "4boaBQgUQsY4",
        "colab_type": "code",
        "colab": {}
      },
      "source": [
        "import os\n",
        "\n",
        "def mkdir_if_not_exist(path):\n",
        "    if not isinstance(path, str):\n",
        "        path = os.path.join(*path)\n",
        "    if not os.path.exists(path):\n",
        "        os.makedirs(path)"
      ],
      "execution_count": 0,
      "outputs": []
    },
    {
      "cell_type": "code",
      "metadata": {
        "id": "8GxuXMHVRb6l",
        "colab_type": "code",
        "colab": {}
      },
      "source": [
        "data_file = '../data/house_tiny.csv'\n",
        "mkdir_if_not_exist('../data')\n",
        "with open(data_file, 'w') as f:\n",
        "    f.write('NumRooms,Alley,Price\\n')  # Column names\n",
        "    f.write('NA,Pave,127500\\n')  # Each row is a data point\n",
        "    f.write('2,NA,106000\\n')\n",
        "    f.write('4,NA,178100\\n')\n",
        "    f.write('NA,NA,140000\\n')"
      ],
      "execution_count": 0,
      "outputs": []
    },
    {
      "cell_type": "code",
      "metadata": {
        "id": "oQVi7gPdU8rf",
        "colab_type": "code",
        "outputId": "fa5310cd-8714-4600-c358-6021527a317e",
        "colab": {
          "base_uri": "https://localhost:8080/",
          "height": 173
        }
      },
      "source": [
        "import pandas as pd\n",
        "\n",
        "data = pd.read_csv(data_file)\n",
        "data"
      ],
      "execution_count": 0,
      "outputs": [
        {
          "output_type": "execute_result",
          "data": {
            "text/html": [
              "<div>\n",
              "<style scoped>\n",
              "    .dataframe tbody tr th:only-of-type {\n",
              "        vertical-align: middle;\n",
              "    }\n",
              "\n",
              "    .dataframe tbody tr th {\n",
              "        vertical-align: top;\n",
              "    }\n",
              "\n",
              "    .dataframe thead th {\n",
              "        text-align: right;\n",
              "    }\n",
              "</style>\n",
              "<table border=\"1\" class=\"dataframe\">\n",
              "  <thead>\n",
              "    <tr style=\"text-align: right;\">\n",
              "      <th></th>\n",
              "      <th>NumRooms</th>\n",
              "      <th>Alley</th>\n",
              "      <th>Price</th>\n",
              "    </tr>\n",
              "  </thead>\n",
              "  <tbody>\n",
              "    <tr>\n",
              "      <th>0</th>\n",
              "      <td>NaN</td>\n",
              "      <td>Pave</td>\n",
              "      <td>127500</td>\n",
              "    </tr>\n",
              "    <tr>\n",
              "      <th>1</th>\n",
              "      <td>2.0</td>\n",
              "      <td>NaN</td>\n",
              "      <td>106000</td>\n",
              "    </tr>\n",
              "    <tr>\n",
              "      <th>2</th>\n",
              "      <td>4.0</td>\n",
              "      <td>NaN</td>\n",
              "      <td>178100</td>\n",
              "    </tr>\n",
              "    <tr>\n",
              "      <th>3</th>\n",
              "      <td>NaN</td>\n",
              "      <td>NaN</td>\n",
              "      <td>140000</td>\n",
              "    </tr>\n",
              "  </tbody>\n",
              "</table>\n",
              "</div>"
            ],
            "text/plain": [
              "   NumRooms Alley   Price\n",
              "0       NaN  Pave  127500\n",
              "1       2.0   NaN  106000\n",
              "2       4.0   NaN  178100\n",
              "3       NaN   NaN  140000"
            ]
          },
          "metadata": {
            "tags": []
          },
          "execution_count": 40
        }
      ]
    },
    {
      "cell_type": "code",
      "metadata": {
        "id": "uWeSNnoEZdGw",
        "colab_type": "code",
        "outputId": "3475efd7-8306-455a-a1be-5b3c6ff7d976",
        "colab": {
          "base_uri": "https://localhost:8080/",
          "height": 173
        }
      },
      "source": [
        "inputs, outputs = data.iloc[:, 0:2], data.iloc[:, 2] \n",
        "inputs = inputs.fillna(inputs.mean())\n",
        "inputs"
      ],
      "execution_count": 0,
      "outputs": [
        {
          "output_type": "execute_result",
          "data": {
            "text/html": [
              "<div>\n",
              "<style scoped>\n",
              "    .dataframe tbody tr th:only-of-type {\n",
              "        vertical-align: middle;\n",
              "    }\n",
              "\n",
              "    .dataframe tbody tr th {\n",
              "        vertical-align: top;\n",
              "    }\n",
              "\n",
              "    .dataframe thead th {\n",
              "        text-align: right;\n",
              "    }\n",
              "</style>\n",
              "<table border=\"1\" class=\"dataframe\">\n",
              "  <thead>\n",
              "    <tr style=\"text-align: right;\">\n",
              "      <th></th>\n",
              "      <th>NumRooms</th>\n",
              "      <th>Alley</th>\n",
              "    </tr>\n",
              "  </thead>\n",
              "  <tbody>\n",
              "    <tr>\n",
              "      <th>0</th>\n",
              "      <td>3.0</td>\n",
              "      <td>Pave</td>\n",
              "    </tr>\n",
              "    <tr>\n",
              "      <th>1</th>\n",
              "      <td>2.0</td>\n",
              "      <td>NaN</td>\n",
              "    </tr>\n",
              "    <tr>\n",
              "      <th>2</th>\n",
              "      <td>4.0</td>\n",
              "      <td>NaN</td>\n",
              "    </tr>\n",
              "    <tr>\n",
              "      <th>3</th>\n",
              "      <td>3.0</td>\n",
              "      <td>NaN</td>\n",
              "    </tr>\n",
              "  </tbody>\n",
              "</table>\n",
              "</div>"
            ],
            "text/plain": [
              "   NumRooms Alley\n",
              "0       3.0  Pave\n",
              "1       2.0   NaN\n",
              "2       4.0   NaN\n",
              "3       3.0   NaN"
            ]
          },
          "metadata": {
            "tags": []
          },
          "execution_count": 41
        }
      ]
    },
    {
      "cell_type": "code",
      "metadata": {
        "id": "K4G2haEww5eT",
        "colab_type": "code",
        "outputId": "11ee5dee-4535-486f-bccc-4580ada2f1b7",
        "colab": {
          "base_uri": "https://localhost:8080/",
          "height": 173
        }
      },
      "source": [
        "inputs = pd.get_dummies(inputs, dummy_na=True)\n",
        "inputs"
      ],
      "execution_count": 0,
      "outputs": [
        {
          "output_type": "execute_result",
          "data": {
            "text/html": [
              "<div>\n",
              "<style scoped>\n",
              "    .dataframe tbody tr th:only-of-type {\n",
              "        vertical-align: middle;\n",
              "    }\n",
              "\n",
              "    .dataframe tbody tr th {\n",
              "        vertical-align: top;\n",
              "    }\n",
              "\n",
              "    .dataframe thead th {\n",
              "        text-align: right;\n",
              "    }\n",
              "</style>\n",
              "<table border=\"1\" class=\"dataframe\">\n",
              "  <thead>\n",
              "    <tr style=\"text-align: right;\">\n",
              "      <th></th>\n",
              "      <th>NumRooms</th>\n",
              "      <th>Alley_Pave</th>\n",
              "      <th>Alley_nan</th>\n",
              "    </tr>\n",
              "  </thead>\n",
              "  <tbody>\n",
              "    <tr>\n",
              "      <th>0</th>\n",
              "      <td>3.0</td>\n",
              "      <td>1</td>\n",
              "      <td>0</td>\n",
              "    </tr>\n",
              "    <tr>\n",
              "      <th>1</th>\n",
              "      <td>2.0</td>\n",
              "      <td>0</td>\n",
              "      <td>1</td>\n",
              "    </tr>\n",
              "    <tr>\n",
              "      <th>2</th>\n",
              "      <td>4.0</td>\n",
              "      <td>0</td>\n",
              "      <td>1</td>\n",
              "    </tr>\n",
              "    <tr>\n",
              "      <th>3</th>\n",
              "      <td>3.0</td>\n",
              "      <td>0</td>\n",
              "      <td>1</td>\n",
              "    </tr>\n",
              "  </tbody>\n",
              "</table>\n",
              "</div>"
            ],
            "text/plain": [
              "   NumRooms  Alley_Pave  Alley_nan\n",
              "0       3.0           1          0\n",
              "1       2.0           0          1\n",
              "2       4.0           0          1\n",
              "3       3.0           0          1"
            ]
          },
          "metadata": {
            "tags": []
          },
          "execution_count": 42
        }
      ]
    },
    {
      "cell_type": "code",
      "metadata": {
        "id": "nnwpEe-t3z8j",
        "colab_type": "code",
        "outputId": "ef0db710-2abc-4752-cd0b-8722488a6f04",
        "colab": {
          "base_uri": "https://localhost:8080/",
          "height": 107
        }
      },
      "source": [
        "# Convert to ndarrray format\n",
        "\n",
        "X, y = np.array(inputs.values), np.array(outputs.values)\n",
        "X, y"
      ],
      "execution_count": 0,
      "outputs": [
        {
          "output_type": "execute_result",
          "data": {
            "text/plain": [
              "(array([[3., 1., 0.],\n",
              "        [2., 0., 1.],\n",
              "        [4., 0., 1.],\n",
              "        [3., 0., 1.]], dtype=float64),\n",
              " array([127500, 106000, 178100, 140000], dtype=int64))"
            ]
          },
          "metadata": {
            "tags": []
          },
          "execution_count": 44
        }
      ]
    },
    {
      "cell_type": "markdown",
      "metadata": {
        "id": "oxs2OZrk4Y8P",
        "colab_type": "text"
      },
      "source": [
        "# 2.3. Linear Algebra"
      ]
    },
    {
      "cell_type": "code",
      "metadata": {
        "id": "Njkq1V007VnP",
        "colab_type": "code",
        "outputId": "93005be2-96a2-4c53-89cb-8dcdf5646f6b",
        "colab": {
          "base_uri": "https://localhost:8080/",
          "height": 35
        }
      },
      "source": [
        "from mxnet import np, npx\n",
        "npx.set_np()\n",
        "\n",
        "x = np.array(3.0)\n",
        "y = np.array(2.0)\n",
        "\n",
        "x + y, x * y, x / y, x ** y"
      ],
      "execution_count": 0,
      "outputs": [
        {
          "output_type": "execute_result",
          "data": {
            "text/plain": [
              "(array(5.), array(6.), array(1.5), array(9.))"
            ]
          },
          "metadata": {
            "tags": []
          },
          "execution_count": 46
        }
      ]
    },
    {
      "cell_type": "code",
      "metadata": {
        "id": "Gx0GhuGWTZnd",
        "colab_type": "code",
        "outputId": "f838c4fd-bdbc-43cb-d6fb-8860a3c75e28",
        "colab": {
          "base_uri": "https://localhost:8080/",
          "height": 35
        }
      },
      "source": [
        "# L2 Norm\n",
        "u = np.array([3., 4.])\n",
        "np.linalg.norm(u)"
      ],
      "execution_count": 0,
      "outputs": [
        {
          "output_type": "execute_result",
          "data": {
            "text/plain": [
              "array(5.)"
            ]
          },
          "metadata": {
            "tags": []
          },
          "execution_count": 47
        }
      ]
    },
    {
      "cell_type": "code",
      "metadata": {
        "id": "rkDIN_-ZTktb",
        "colab_type": "code",
        "outputId": "04230480-e3f7-439f-b5a5-6aa611e31b13",
        "colab": {
          "base_uri": "https://localhost:8080/",
          "height": 35
        }
      },
      "source": [
        "# Squared L2 Norm\n",
        "u = np.array([3., 4.])\n",
        "(u ** 2).sum()"
      ],
      "execution_count": 0,
      "outputs": [
        {
          "output_type": "execute_result",
          "data": {
            "text/plain": [
              "array(25.)"
            ]
          },
          "metadata": {
            "tags": []
          },
          "execution_count": 51
        }
      ]
    },
    {
      "cell_type": "code",
      "metadata": {
        "id": "mENVhnphUrJu",
        "colab_type": "code",
        "outputId": "85f1dfc3-1de7-484a-8bc2-950b746de214",
        "colab": {
          "base_uri": "https://localhost:8080/",
          "height": 35
        }
      },
      "source": [
        "# L1 Norm\n",
        "u = np.array([3., 4.])\n",
        "np.abs(u).sum()"
      ],
      "execution_count": 0,
      "outputs": [
        {
          "output_type": "execute_result",
          "data": {
            "text/plain": [
              "array(7.)"
            ]
          },
          "metadata": {
            "tags": []
          },
          "execution_count": 52
        }
      ]
    },
    {
      "cell_type": "markdown",
      "metadata": {
        "id": "ZJpTup2Ff16S",
        "colab_type": "text"
      },
      "source": [
        "## Exercises\n",
        "\n",
        "1.\n",
        "Transposing a matrix is essentially flipping it with respect to the main diagonal. Therefore, tranposing a matrix by two times is like flipping that matrix back to its original state.\n",
        "\n",
        "2.\n",
        "Suppose that $\\mathbf{A}=\\begin{bmatrix} a_{11} & a_{12} & \\cdots & a_{1n} \\\\ a_{21} & a_{22} & \\cdots & a_{2n} \\\\ \\vdots & \\vdots & \\ddots & \\vdots \\\\ a_{m1} & a_{m2} & \\cdots & a_{mn} \\\\ \\end{bmatrix}, \n",
        "\\mathbf{B}=\\begin{bmatrix} b_{11} & b_{12} & \\cdots & b_{1n} \\\\ b_{21} & b_{22} & \\cdots & b_{2n} \\\\ \\vdots & \\vdots & \\ddots & \\vdots \\\\ b_{m1} & b_{m2} & \\cdots & b1_{mn} \\\\ \\end{bmatrix}$.\n",
        "\n",
        "\n",
        "\n",
        "$\\mathbf{A}^\\top  + \\mathbf{B}^\\top =\n",
        "   \\begin{bmatrix}\n",
        "       a_{11} & a_{21} & \\dots  & a_{m1} \\\\\n",
        "       a_{12} & a_{22} & \\dots  & a_{m2} \\\\\n",
        "       \\vdots & \\vdots & \\ddots  & \\vdots \\\\\n",
        "       a_{1n} & a_{2n} & \\dots  & a_{mn}\n",
        "   \\end{bmatrix}\n",
        "   +\n",
        "   \\begin{bmatrix}\n",
        "       b_{11} & b_{21} & \\dots  & b_{m1} \\\\\n",
        "       b_{12} & b_{22} & \\dots  & b_{m2} \\\\\n",
        "       \\vdots & \\vdots & \\ddots  & \\vdots \\\\\n",
        "       b_{1n} & b_{2n} & \\dots  & b_{mn}\n",
        "   \\end{bmatrix}\n",
        "   =\n",
        "   \\begin{bmatrix}\n",
        "       a_{11} + b_{11} & a_{21} + b_{21} & \\dots  & a_{m1} + b_{m1} \\\\\n",
        "       a_{12} + b_{12} & a_{22} + b_{22} & \\dots  & a_{m2} + b_{m2} \\\\\n",
        "       \\vdots & \\vdots & \\ddots  & \\vdots \\\\\n",
        "       a_{1n} + b_{1n} & a_{2n} + b_{2n} & \\dots  & a_{mn} + b_{mn}\n",
        "   \\end{bmatrix}\n",
        "   = \\mathbf{B}^\\top\n",
        "   $\n",
        "Hence, $q.e.d.$\n",
        "\n",
        "3.\n",
        "Suppose that $\\mathbf{A}=\\begin{bmatrix} a_{11} & a_{12} & \\cdots & a_{1n} \\\\ a_{21} & a_{22} & \\cdots & a_{2n} \\\\ \\vdots & \\vdots & \\ddots & \\vdots \\\\ a_{m1} & a_{m2} & \\cdots & a_{mn} \\\\ \\end{bmatrix}$.\n",
        "\n",
        "$\\mathbf{A} + \\mathbf{A}^\\top =\n",
        "    \\begin{bmatrix}\n",
        "       a_{11} + a_{11} & a_{12} + a_{21} & \\dots  & a_{1m} + a_{m1} \\\\\n",
        "       a_{21} + a_{12} & a_{22} + a_{22} & \\dots  & a_{2m} + a_{m2} \\\\\n",
        "       \\vdots & \\vdots & \\ddots  & \\vdots \\\\\n",
        "       a_{n1} + a_{1n} & a_{2n} + a_{n2} & \\dots  & a_{nm} + a_{mn}\n",
        "   \\end{bmatrix}\n",
        "$\n",
        "\n",
        "From this expression, we can see that $\\forall i, j,  (\\mathbf{A} + \\mathbf{A}^\\top)_{ij} = (\\mathbf{A} + \\mathbf{A}^\\top)_{ij}$. Therefore, $\\mathbf{A} + \\mathbf{A}^\\top$ is a symmetric matrix.\n",
        "\n",
        "4.\n",
        "The len of the tensor $X$ is 2, since $len(X)$ returns the size of the first dimension of the tensor.\n",
        "\n"
      ]
    },
    {
      "cell_type": "markdown",
      "metadata": {
        "id": "LaZeDyFnutNJ",
        "colab_type": "text"
      },
      "source": [
        "\n",
        "5.\n",
        "$len(X)$ always returns the length corresponding to the first axis. In other words, the result is always the lengt of the axis with index 0."
      ]
    },
    {
      "cell_type": "code",
      "metadata": {
        "id": "idjFSz37tOtu",
        "colab_type": "code",
        "outputId": "59a11550-ba28-4c51-c82a-6efdb4d08345",
        "colab": {
          "base_uri": "https://localhost:8080/",
          "height": 35
        }
      },
      "source": [
        "import numpy as np\n",
        "\n",
        "a = np.ones((2, 3, 4))\n",
        "len(a)"
      ],
      "execution_count": 0,
      "outputs": [
        {
          "output_type": "execute_result",
          "data": {
            "text/plain": [
              "2"
            ]
          },
          "metadata": {
            "tags": []
          },
          "execution_count": 53
        }
      ]
    },
    {
      "cell_type": "markdown",
      "metadata": {
        "id": "iQX_sbgtvMOd",
        "colab_type": "text"
      },
      "source": [
        "6.\n",
        "The result of this evaluation is an error. This is caused by the mismatch of shape between the two matrices. If we transposed the matrix $\\bf{A}$ before performing the calculation, there would be no errors."
      ]
    },
    {
      "cell_type": "code",
      "metadata": {
        "id": "HmMfTVhSuo6m",
        "colab_type": "code",
        "outputId": "af285f02-c1e9-47bd-e200-a90c24759a40",
        "colab": {
          "base_uri": "https://localhost:8080/",
          "height": 187
        }
      },
      "source": [
        "A = np.arange(20).reshape(5, 4)\n",
        "A / A.sum(axis=1)"
      ],
      "execution_count": 0,
      "outputs": [
        {
          "output_type": "error",
          "ename": "ValueError",
          "evalue": "ignored",
          "traceback": [
            "\u001b[0;31m---------------------------------------------------------------------------\u001b[0m",
            "\u001b[0;31mValueError\u001b[0m                                Traceback (most recent call last)",
            "\u001b[0;32m<ipython-input-58-46dce4a4abec>\u001b[0m in \u001b[0;36m<module>\u001b[0;34m()\u001b[0m\n\u001b[1;32m      1\u001b[0m \u001b[0mA\u001b[0m \u001b[0;34m=\u001b[0m \u001b[0mnp\u001b[0m\u001b[0;34m.\u001b[0m\u001b[0marange\u001b[0m\u001b[0;34m(\u001b[0m\u001b[0;36m20\u001b[0m\u001b[0;34m)\u001b[0m\u001b[0;34m.\u001b[0m\u001b[0mreshape\u001b[0m\u001b[0;34m(\u001b[0m\u001b[0;36m5\u001b[0m\u001b[0;34m,\u001b[0m \u001b[0;36m4\u001b[0m\u001b[0;34m)\u001b[0m\u001b[0;34m\u001b[0m\u001b[0;34m\u001b[0m\u001b[0m\n\u001b[0;32m----> 2\u001b[0;31m \u001b[0mA\u001b[0m \u001b[0;34m/\u001b[0m \u001b[0mA\u001b[0m\u001b[0;34m.\u001b[0m\u001b[0msum\u001b[0m\u001b[0;34m(\u001b[0m\u001b[0maxis\u001b[0m\u001b[0;34m=\u001b[0m\u001b[0;36m1\u001b[0m\u001b[0;34m)\u001b[0m\u001b[0;34m\u001b[0m\u001b[0;34m\u001b[0m\u001b[0m\n\u001b[0m",
            "\u001b[0;31mValueError\u001b[0m: operands could not be broadcast together with shapes (5,4) (5,) "
          ]
        }
      ]
    },
    {
      "cell_type": "code",
      "metadata": {
        "id": "_t1kWYjkvolc",
        "colab_type": "code",
        "outputId": "3c9a1fb9-2898-442a-e59a-d7bc496de7d4",
        "colab": {
          "base_uri": "https://localhost:8080/",
          "height": 89
        }
      },
      "source": [
        "A = np.arange(20).reshape(5, 4)\n",
        "A.T / A.sum(axis=1)"
      ],
      "execution_count": 0,
      "outputs": [
        {
          "output_type": "execute_result",
          "data": {
            "text/plain": [
              "array([[0.        , 0.18181818, 0.21052632, 0.22222222, 0.22857143],\n",
              "       [0.16666667, 0.22727273, 0.23684211, 0.24074074, 0.24285714],\n",
              "       [0.33333333, 0.27272727, 0.26315789, 0.25925926, 0.25714286],\n",
              "       [0.5       , 0.31818182, 0.28947368, 0.27777778, 0.27142857]])"
            ]
          },
          "metadata": {
            "tags": []
          },
          "execution_count": 59
        }
      ]
    },
    {
      "cell_type": "markdown",
      "metadata": {
        "id": "EgDNsqwOv-Mn",
        "colab_type": "text"
      },
      "source": [
        "7.\n",
        "You would need to travel on the streets (ie., travelling vertically and horizontally), so no diagonal movement is allowed.\n",
        "\n",
        "8.\n",
        "The shape of the summation along axis 0, 1, and 2 are $(3, 4), (2, 4),$ and $(2, 3)$, respectively."
      ]
    },
    {
      "cell_type": "code",
      "metadata": {
        "id": "UhlT1IpOw8uS",
        "colab_type": "code",
        "outputId": "d61ded7f-ac87-46ff-df2a-d248fb214ff5",
        "colab": {
          "base_uri": "https://localhost:8080/",
          "height": 71
        }
      },
      "source": [
        "B = np.ones((2, 3, 4))\n",
        "\n",
        "print(B.sum(axis=0).shape)\n",
        "print(B.sum(axis=1).shape)\n",
        "print(B.sum(axis=2).shape)"
      ],
      "execution_count": 0,
      "outputs": [
        {
          "output_type": "stream",
          "text": [
            "(3, 4)\n",
            "(2, 4)\n",
            "(2, 3)\n"
          ],
          "name": "stdout"
        }
      ]
    },
    {
      "cell_type": "markdown",
      "metadata": {
        "id": "geZOe5-H1Fzo",
        "colab_type": "text"
      },
      "source": [
        "8.\n",
        "For an arbitrary shape matrix, the result is the Frobenius norm of the matrix."
      ]
    },
    {
      "cell_type": "code",
      "metadata": {
        "id": "yK4-SuMZxYxz",
        "colab_type": "code",
        "outputId": "da909e5d-dffe-4585-e71a-e0cce7e6dfdb",
        "colab": {
          "base_uri": "https://localhost:8080/",
          "height": 35
        }
      },
      "source": [
        "B = np.ones((2, 3, 4, 2))\n",
        "np.linalg.norm(B)"
      ],
      "execution_count": 0,
      "outputs": [
        {
          "output_type": "execute_result",
          "data": {
            "text/plain": [
              "6.928203230275509"
            ]
          },
          "metadata": {
            "tags": []
          },
          "execution_count": 64
        }
      ]
    },
    {
      "cell_type": "markdown",
      "metadata": {
        "id": "0B2lEV811iKK",
        "colab_type": "text"
      },
      "source": [
        "# 2.4. Calculus\n",
        "\n",
        "## Exercises\n",
        "\n",
        "1."
      ]
    },
    {
      "cell_type": "code",
      "metadata": {
        "id": "HHT3eEU31hSy",
        "colab_type": "code",
        "colab": {}
      },
      "source": [
        "!pip install d2l"
      ],
      "execution_count": 0,
      "outputs": []
    },
    {
      "cell_type": "code",
      "metadata": {
        "id": "7wjDusPm1ulJ",
        "colab_type": "code",
        "outputId": "dd480718-c1dd-44d0-b80e-d1c2d316c09a",
        "colab": {
          "base_uri": "https://localhost:8080/",
          "height": 262
        }
      },
      "source": [
        "from d2l import use_svg_display, set_figsize, set_axes, plot\n",
        "\n",
        "def f(x):\n",
        "    return x**3 - 1 / x\n",
        "\n",
        "def f_prime(x):\n",
        "    return 3 * x ** 2 + 1 / (x**2)\n",
        "\n",
        "x = np.arange(0.1, 3, 0.01)\n",
        "\n",
        "plot(x, [f(x), f_prime(x)], 'x', 'f(x)', legend=['f(x)', 'Tangent line at x = 1'])"
      ],
      "execution_count": 0,
      "outputs": [
        {
          "output_type": "display_data",
          "data": {
            "text/plain": [
              "<Figure size 252x180 with 1 Axes>"
            ],
            "image/svg+xml": "<?xml version=\"1.0\" encoding=\"utf-8\" standalone=\"no\"?>\n<!DOCTYPE svg PUBLIC \"-//W3C//DTD SVG 1.1//EN\"\n  \"http://www.w3.org/Graphics/SVG/1.1/DTD/svg11.dtd\">\n<!-- Created with matplotlib (https://matplotlib.org/) -->\n<svg height=\"180.65625pt\" version=\"1.1\" viewBox=\"0 0 249.465625 180.65625\" width=\"249.465625pt\" xmlns=\"http://www.w3.org/2000/svg\" xmlns:xlink=\"http://www.w3.org/1999/xlink\">\n <defs>\n  <style type=\"text/css\">\n*{stroke-linecap:butt;stroke-linejoin:round;}\n  </style>\n </defs>\n <g id=\"figure_1\">\n  <g id=\"patch_1\">\n   <path d=\"M 0 180.65625 \nL 249.465625 180.65625 \nL 249.465625 0 \nL 0 0 \nz\n\" style=\"fill:none;\"/>\n  </g>\n  <g id=\"axes_1\">\n   <g id=\"patch_2\">\n    <path d=\"M 46.965625 143.1 \nL 242.265625 143.1 \nL 242.265625 7.2 \nL 46.965625 7.2 \nz\n\" style=\"fill:#ffffff;\"/>\n   </g>\n   <g id=\"matplotlib.axis_1\">\n    <g id=\"xtick_1\">\n     <g id=\"line2d_1\">\n      <path clip-path=\"url(#pb03e4fd693)\" d=\"M 49.699456 143.1 \nL 49.699456 7.2 \n\" style=\"fill:none;stroke:#b0b0b0;stroke-linecap:square;stroke-width:0.8;\"/>\n     </g>\n     <g id=\"line2d_2\">\n      <defs>\n       <path d=\"M 0 0 \nL 0 3.5 \n\" id=\"mf6d98b7e15\" style=\"stroke:#000000;stroke-width:0.8;\"/>\n      </defs>\n      <g>\n       <use style=\"stroke:#000000;stroke-width:0.8;\" x=\"49.699456\" xlink:href=\"#mf6d98b7e15\" y=\"143.1\"/>\n      </g>\n     </g>\n     <g id=\"text_1\">\n      <!-- 0 -->\n      <defs>\n       <path d=\"M 31.78125 66.40625 \nQ 24.171875 66.40625 20.328125 58.90625 \nQ 16.5 51.421875 16.5 36.375 \nQ 16.5 21.390625 20.328125 13.890625 \nQ 24.171875 6.390625 31.78125 6.390625 \nQ 39.453125 6.390625 43.28125 13.890625 \nQ 47.125 21.390625 47.125 36.375 \nQ 47.125 51.421875 43.28125 58.90625 \nQ 39.453125 66.40625 31.78125 66.40625 \nz\nM 31.78125 74.21875 \nQ 44.046875 74.21875 50.515625 64.515625 \nQ 56.984375 54.828125 56.984375 36.375 \nQ 56.984375 17.96875 50.515625 8.265625 \nQ 44.046875 -1.421875 31.78125 -1.421875 \nQ 19.53125 -1.421875 13.0625 8.265625 \nQ 6.59375 17.96875 6.59375 36.375 \nQ 6.59375 54.828125 13.0625 64.515625 \nQ 19.53125 74.21875 31.78125 74.21875 \nz\n\" id=\"DejaVuSans-48\"/>\n      </defs>\n      <g transform=\"translate(46.518206 157.698438)scale(0.1 -0.1)\">\n       <use xlink:href=\"#DejaVuSans-48\"/>\n      </g>\n     </g>\n    </g>\n    <g id=\"xtick_2\">\n     <g id=\"line2d_3\">\n      <path clip-path=\"url(#pb03e4fd693)\" d=\"M 111.13387 143.1 \nL 111.13387 7.2 \n\" style=\"fill:none;stroke:#b0b0b0;stroke-linecap:square;stroke-width:0.8;\"/>\n     </g>\n     <g id=\"line2d_4\">\n      <g>\n       <use style=\"stroke:#000000;stroke-width:0.8;\" x=\"111.13387\" xlink:href=\"#mf6d98b7e15\" y=\"143.1\"/>\n      </g>\n     </g>\n     <g id=\"text_2\">\n      <!-- 1 -->\n      <defs>\n       <path d=\"M 12.40625 8.296875 \nL 28.515625 8.296875 \nL 28.515625 63.921875 \nL 10.984375 60.40625 \nL 10.984375 69.390625 \nL 28.421875 72.90625 \nL 38.28125 72.90625 \nL 38.28125 8.296875 \nL 54.390625 8.296875 \nL 54.390625 0 \nL 12.40625 0 \nz\n\" id=\"DejaVuSans-49\"/>\n      </defs>\n      <g transform=\"translate(107.95262 157.698438)scale(0.1 -0.1)\">\n       <use xlink:href=\"#DejaVuSans-49\"/>\n      </g>\n     </g>\n    </g>\n    <g id=\"xtick_3\">\n     <g id=\"line2d_5\">\n      <path clip-path=\"url(#pb03e4fd693)\" d=\"M 172.568283 143.1 \nL 172.568283 7.2 \n\" style=\"fill:none;stroke:#b0b0b0;stroke-linecap:square;stroke-width:0.8;\"/>\n     </g>\n     <g id=\"line2d_6\">\n      <g>\n       <use style=\"stroke:#000000;stroke-width:0.8;\" x=\"172.568283\" xlink:href=\"#mf6d98b7e15\" y=\"143.1\"/>\n      </g>\n     </g>\n     <g id=\"text_3\">\n      <!-- 2 -->\n      <defs>\n       <path d=\"M 19.1875 8.296875 \nL 53.609375 8.296875 \nL 53.609375 0 \nL 7.328125 0 \nL 7.328125 8.296875 \nQ 12.9375 14.109375 22.625 23.890625 \nQ 32.328125 33.6875 34.8125 36.53125 \nQ 39.546875 41.84375 41.421875 45.53125 \nQ 43.3125 49.21875 43.3125 52.78125 \nQ 43.3125 58.59375 39.234375 62.25 \nQ 35.15625 65.921875 28.609375 65.921875 \nQ 23.96875 65.921875 18.8125 64.3125 \nQ 13.671875 62.703125 7.8125 59.421875 \nL 7.8125 69.390625 \nQ 13.765625 71.78125 18.9375 73 \nQ 24.125 74.21875 28.421875 74.21875 \nQ 39.75 74.21875 46.484375 68.546875 \nQ 53.21875 62.890625 53.21875 53.421875 \nQ 53.21875 48.921875 51.53125 44.890625 \nQ 49.859375 40.875 45.40625 35.40625 \nQ 44.1875 33.984375 37.640625 27.21875 \nQ 31.109375 20.453125 19.1875 8.296875 \nz\n\" id=\"DejaVuSans-50\"/>\n      </defs>\n      <g transform=\"translate(169.387033 157.698438)scale(0.1 -0.1)\">\n       <use xlink:href=\"#DejaVuSans-50\"/>\n      </g>\n     </g>\n    </g>\n    <g id=\"xtick_4\">\n     <g id=\"line2d_7\">\n      <path clip-path=\"url(#pb03e4fd693)\" d=\"M 234.002696 143.1 \nL 234.002696 7.2 \n\" style=\"fill:none;stroke:#b0b0b0;stroke-linecap:square;stroke-width:0.8;\"/>\n     </g>\n     <g id=\"line2d_8\">\n      <g>\n       <use style=\"stroke:#000000;stroke-width:0.8;\" x=\"234.002696\" xlink:href=\"#mf6d98b7e15\" y=\"143.1\"/>\n      </g>\n     </g>\n     <g id=\"text_4\">\n      <!-- 3 -->\n      <defs>\n       <path d=\"M 40.578125 39.3125 \nQ 47.65625 37.796875 51.625 33 \nQ 55.609375 28.21875 55.609375 21.1875 \nQ 55.609375 10.40625 48.1875 4.484375 \nQ 40.765625 -1.421875 27.09375 -1.421875 \nQ 22.515625 -1.421875 17.65625 -0.515625 \nQ 12.796875 0.390625 7.625 2.203125 \nL 7.625 11.71875 \nQ 11.71875 9.328125 16.59375 8.109375 \nQ 21.484375 6.890625 26.8125 6.890625 \nQ 36.078125 6.890625 40.9375 10.546875 \nQ 45.796875 14.203125 45.796875 21.1875 \nQ 45.796875 27.640625 41.28125 31.265625 \nQ 36.765625 34.90625 28.71875 34.90625 \nL 20.21875 34.90625 \nL 20.21875 43.015625 \nL 29.109375 43.015625 \nQ 36.375 43.015625 40.234375 45.921875 \nQ 44.09375 48.828125 44.09375 54.296875 \nQ 44.09375 59.90625 40.109375 62.90625 \nQ 36.140625 65.921875 28.71875 65.921875 \nQ 24.65625 65.921875 20.015625 65.03125 \nQ 15.375 64.15625 9.8125 62.3125 \nL 9.8125 71.09375 \nQ 15.4375 72.65625 20.34375 73.4375 \nQ 25.25 74.21875 29.59375 74.21875 \nQ 40.828125 74.21875 47.359375 69.109375 \nQ 53.90625 64.015625 53.90625 55.328125 \nQ 53.90625 49.265625 50.4375 45.09375 \nQ 46.96875 40.921875 40.578125 39.3125 \nz\n\" id=\"DejaVuSans-51\"/>\n      </defs>\n      <g transform=\"translate(230.821446 157.698438)scale(0.1 -0.1)\">\n       <use xlink:href=\"#DejaVuSans-51\"/>\n      </g>\n     </g>\n    </g>\n    <g id=\"text_5\">\n     <!-- x -->\n     <defs>\n      <path d=\"M 54.890625 54.6875 \nL 35.109375 28.078125 \nL 55.90625 0 \nL 45.3125 0 \nL 29.390625 21.484375 \nL 13.484375 0 \nL 2.875 0 \nL 24.125 28.609375 \nL 4.6875 54.6875 \nL 15.28125 54.6875 \nL 29.78125 35.203125 \nL 44.28125 54.6875 \nz\n\" id=\"DejaVuSans-120\"/>\n     </defs>\n     <g transform=\"translate(141.65625 171.376563)scale(0.1 -0.1)\">\n      <use xlink:href=\"#DejaVuSans-120\"/>\n     </g>\n    </g>\n   </g>\n   <g id=\"matplotlib.axis_2\">\n    <g id=\"ytick_1\">\n     <g id=\"line2d_9\">\n      <path clip-path=\"url(#pb03e4fd693)\" d=\"M 46.965625 125.695405 \nL 242.265625 125.695405 \n\" style=\"fill:none;stroke:#b0b0b0;stroke-linecap:square;stroke-width:0.8;\"/>\n     </g>\n     <g id=\"line2d_10\">\n      <defs>\n       <path d=\"M 0 0 \nL -3.5 0 \n\" id=\"m80300fa093\" style=\"stroke:#000000;stroke-width:0.8;\"/>\n      </defs>\n      <g>\n       <use style=\"stroke:#000000;stroke-width:0.8;\" x=\"46.965625\" xlink:href=\"#m80300fa093\" y=\"125.695405\"/>\n      </g>\n     </g>\n     <g id=\"text_6\">\n      <!-- 0 -->\n      <g transform=\"translate(33.603125 129.494624)scale(0.1 -0.1)\">\n       <use xlink:href=\"#DejaVuSans-48\"/>\n      </g>\n     </g>\n    </g>\n    <g id=\"ytick_2\">\n     <g id=\"line2d_11\">\n      <path clip-path=\"url(#pb03e4fd693)\" d=\"M 46.965625 97.624294 \nL 242.265625 97.624294 \n\" style=\"fill:none;stroke:#b0b0b0;stroke-linecap:square;stroke-width:0.8;\"/>\n     </g>\n     <g id=\"line2d_12\">\n      <g>\n       <use style=\"stroke:#000000;stroke-width:0.8;\" x=\"46.965625\" xlink:href=\"#m80300fa093\" y=\"97.624294\"/>\n      </g>\n     </g>\n     <g id=\"text_7\">\n      <!-- 25 -->\n      <defs>\n       <path d=\"M 10.796875 72.90625 \nL 49.515625 72.90625 \nL 49.515625 64.59375 \nL 19.828125 64.59375 \nL 19.828125 46.734375 \nQ 21.96875 47.46875 24.109375 47.828125 \nQ 26.265625 48.1875 28.421875 48.1875 \nQ 40.625 48.1875 47.75 41.5 \nQ 54.890625 34.8125 54.890625 23.390625 \nQ 54.890625 11.625 47.5625 5.09375 \nQ 40.234375 -1.421875 26.90625 -1.421875 \nQ 22.3125 -1.421875 17.546875 -0.640625 \nQ 12.796875 0.140625 7.71875 1.703125 \nL 7.71875 11.625 \nQ 12.109375 9.234375 16.796875 8.0625 \nQ 21.484375 6.890625 26.703125 6.890625 \nQ 35.15625 6.890625 40.078125 11.328125 \nQ 45.015625 15.765625 45.015625 23.390625 \nQ 45.015625 31 40.078125 35.4375 \nQ 35.15625 39.890625 26.703125 39.890625 \nQ 22.75 39.890625 18.8125 39.015625 \nQ 14.890625 38.140625 10.796875 36.28125 \nz\n\" id=\"DejaVuSans-53\"/>\n      </defs>\n      <g transform=\"translate(27.240625 101.423512)scale(0.1 -0.1)\">\n       <use xlink:href=\"#DejaVuSans-50\"/>\n       <use x=\"63.623047\" xlink:href=\"#DejaVuSans-53\"/>\n      </g>\n     </g>\n    </g>\n    <g id=\"ytick_3\">\n     <g id=\"line2d_13\">\n      <path clip-path=\"url(#pb03e4fd693)\" d=\"M 46.965625 69.553182 \nL 242.265625 69.553182 \n\" style=\"fill:none;stroke:#b0b0b0;stroke-linecap:square;stroke-width:0.8;\"/>\n     </g>\n     <g id=\"line2d_14\">\n      <g>\n       <use style=\"stroke:#000000;stroke-width:0.8;\" x=\"46.965625\" xlink:href=\"#m80300fa093\" y=\"69.553182\"/>\n      </g>\n     </g>\n     <g id=\"text_8\">\n      <!-- 50 -->\n      <g transform=\"translate(27.240625 73.3524)scale(0.1 -0.1)\">\n       <use xlink:href=\"#DejaVuSans-53\"/>\n       <use x=\"63.623047\" xlink:href=\"#DejaVuSans-48\"/>\n      </g>\n     </g>\n    </g>\n    <g id=\"ytick_4\">\n     <g id=\"line2d_15\">\n      <path clip-path=\"url(#pb03e4fd693)\" d=\"M 46.965625 41.48207 \nL 242.265625 41.48207 \n\" style=\"fill:none;stroke:#b0b0b0;stroke-linecap:square;stroke-width:0.8;\"/>\n     </g>\n     <g id=\"line2d_16\">\n      <g>\n       <use style=\"stroke:#000000;stroke-width:0.8;\" x=\"46.965625\" xlink:href=\"#m80300fa093\" y=\"41.48207\"/>\n      </g>\n     </g>\n     <g id=\"text_9\">\n      <!-- 75 -->\n      <defs>\n       <path d=\"M 8.203125 72.90625 \nL 55.078125 72.90625 \nL 55.078125 68.703125 \nL 28.609375 0 \nL 18.3125 0 \nL 43.21875 64.59375 \nL 8.203125 64.59375 \nz\n\" id=\"DejaVuSans-55\"/>\n      </defs>\n      <g transform=\"translate(27.240625 45.281289)scale(0.1 -0.1)\">\n       <use xlink:href=\"#DejaVuSans-55\"/>\n       <use x=\"63.623047\" xlink:href=\"#DejaVuSans-53\"/>\n      </g>\n     </g>\n    </g>\n    <g id=\"ytick_5\">\n     <g id=\"line2d_17\">\n      <path clip-path=\"url(#pb03e4fd693)\" d=\"M 46.965625 13.410958 \nL 242.265625 13.410958 \n\" style=\"fill:none;stroke:#b0b0b0;stroke-linecap:square;stroke-width:0.8;\"/>\n     </g>\n     <g id=\"line2d_18\">\n      <g>\n       <use style=\"stroke:#000000;stroke-width:0.8;\" x=\"46.965625\" xlink:href=\"#m80300fa093\" y=\"13.410958\"/>\n      </g>\n     </g>\n     <g id=\"text_10\">\n      <!-- 100 -->\n      <g transform=\"translate(20.878125 17.210177)scale(0.1 -0.1)\">\n       <use xlink:href=\"#DejaVuSans-49\"/>\n       <use x=\"63.623047\" xlink:href=\"#DejaVuSans-48\"/>\n       <use x=\"127.246094\" xlink:href=\"#DejaVuSans-48\"/>\n      </g>\n     </g>\n    </g>\n    <g id=\"text_11\">\n     <!-- f(x) -->\n     <defs>\n      <path d=\"M 37.109375 75.984375 \nL 37.109375 68.5 \nL 28.515625 68.5 \nQ 23.6875 68.5 21.796875 66.546875 \nQ 19.921875 64.59375 19.921875 59.515625 \nL 19.921875 54.6875 \nL 34.71875 54.6875 \nL 34.71875 47.703125 \nL 19.921875 47.703125 \nL 19.921875 0 \nL 10.890625 0 \nL 10.890625 47.703125 \nL 2.296875 47.703125 \nL 2.296875 54.6875 \nL 10.890625 54.6875 \nL 10.890625 58.5 \nQ 10.890625 67.625 15.140625 71.796875 \nQ 19.390625 75.984375 28.609375 75.984375 \nz\n\" id=\"DejaVuSans-102\"/>\n      <path d=\"M 31 75.875 \nQ 24.46875 64.65625 21.28125 53.65625 \nQ 18.109375 42.671875 18.109375 31.390625 \nQ 18.109375 20.125 21.3125 9.0625 \nQ 24.515625 -2 31 -13.1875 \nL 23.1875 -13.1875 \nQ 15.875 -1.703125 12.234375 9.375 \nQ 8.59375 20.453125 8.59375 31.390625 \nQ 8.59375 42.28125 12.203125 53.3125 \nQ 15.828125 64.359375 23.1875 75.875 \nz\n\" id=\"DejaVuSans-40\"/>\n      <path d=\"M 8.015625 75.875 \nL 15.828125 75.875 \nQ 23.140625 64.359375 26.78125 53.3125 \nQ 30.421875 42.28125 30.421875 31.390625 \nQ 30.421875 20.453125 26.78125 9.375 \nQ 23.140625 -1.703125 15.828125 -13.1875 \nL 8.015625 -13.1875 \nQ 14.5 -2 17.703125 9.0625 \nQ 20.90625 20.125 20.90625 31.390625 \nQ 20.90625 42.671875 17.703125 53.65625 \nQ 14.5 64.65625 8.015625 75.875 \nz\n\" id=\"DejaVuSans-41\"/>\n     </defs>\n     <g transform=\"translate(14.798438 83.771094)rotate(-90)scale(0.1 -0.1)\">\n      <use xlink:href=\"#DejaVuSans-102\"/>\n      <use x=\"35.205078\" xlink:href=\"#DejaVuSans-40\"/>\n      <use x=\"74.21875\" xlink:href=\"#DejaVuSans-120\"/>\n      <use x=\"133.398438\" xlink:href=\"#DejaVuSans-41\"/>\n     </g>\n    </g>\n   </g>\n   <g id=\"line2d_19\">\n    <path clip-path=\"url(#pb03e4fd693)\" d=\"M 55.842898 136.922727 \nL 57.071586 135.050502 \nL 58.300274 133.712642 \nL 59.528963 132.708584 \nL 61.371995 131.597412 \nL 63.215027 130.787288 \nL 65.672404 129.994303 \nL 68.744125 129.284034 \nL 72.430189 128.673245 \nL 77.344942 128.088296 \nL 84.717072 127.457365 \nL 99.461331 126.484908 \nL 116.048623 125.320616 \nL 127.721161 124.279519 \nL 138.165012 123.122363 \nL 147.380174 121.888123 \nL 156.595336 120.425547 \nL 165.196153 118.83173 \nL 173.182627 117.135863 \nL 181.169101 115.215837 \nL 189.155575 113.056046 \nL 196.527704 110.836233 \nL 203.899834 108.386932 \nL 211.271963 105.696177 \nL 218.644093 102.752056 \nL 225.401879 99.820571 \nL 232.159664 96.657106 \nL 233.388352 96.056296 \nL 233.388352 96.056296 \n\" style=\"fill:none;stroke:#1f77b4;stroke-linecap:square;stroke-width:1.5;\"/>\n   </g>\n   <g id=\"line2d_20\">\n    <path clip-path=\"url(#pb03e4fd693)\" d=\"M 55.842898 13.377273 \nL 56.457242 32.857582 \nL 57.071586 47.671588 \nL 57.68593 59.197976 \nL 58.300274 68.341399 \nL 58.914618 75.715415 \nL 60.143307 86.745305 \nL 61.371995 94.470076 \nL 62.600683 100.085527 \nL 63.829371 104.291417 \nL 65.05806 107.51936 \nL 66.286748 110.047309 \nL 67.515436 112.06081 \nL 68.744125 113.687564 \nL 69.972813 115.017787 \nL 71.815845 116.59492 \nL 73.658878 117.800774 \nL 75.50191 118.735865 \nL 77.959287 119.676175 \nL 80.416663 120.361894 \nL 83.488384 120.964541 \nL 87.174449 121.424386 \nL 91.474857 121.709499 \nL 96.389611 121.805758 \nL 102.533052 121.68586 \nL 109.290837 121.332579 \nL 117.277311 120.691509 \nL 126.492473 119.713451 \nL 136.321979 118.433641 \nL 146.765829 116.836413 \nL 157.20968 115.012629 \nL 168.267874 112.846512 \nL 179.326069 110.446152 \nL 190.384263 107.816364 \nL 201.442457 104.960274 \nL 212.500652 101.879987 \nL 223.558846 98.576958 \nL 233.388352 95.454783 \nL 233.388352 95.454783 \n\" style=\"fill:none;stroke:#bf00bf;stroke-dasharray:5.55,2.4;stroke-dashoffset:0;stroke-width:1.5;\"/>\n   </g>\n   <g id=\"patch_3\">\n    <path d=\"M 46.965625 143.1 \nL 46.965625 7.2 \n\" style=\"fill:none;stroke:#000000;stroke-linecap:square;stroke-linejoin:miter;stroke-width:0.8;\"/>\n   </g>\n   <g id=\"patch_4\">\n    <path d=\"M 242.265625 143.1 \nL 242.265625 7.2 \n\" style=\"fill:none;stroke:#000000;stroke-linecap:square;stroke-linejoin:miter;stroke-width:0.8;\"/>\n   </g>\n   <g id=\"patch_5\">\n    <path d=\"M 46.965625 143.1 \nL 242.265625 143.1 \n\" style=\"fill:none;stroke:#000000;stroke-linecap:square;stroke-linejoin:miter;stroke-width:0.8;\"/>\n   </g>\n   <g id=\"patch_6\">\n    <path d=\"M 46.965625 7.2 \nL 242.265625 7.2 \n\" style=\"fill:none;stroke:#000000;stroke-linecap:square;stroke-linejoin:miter;stroke-width:0.8;\"/>\n   </g>\n   <g id=\"legend_1\">\n    <g id=\"patch_7\">\n     <path d=\"M 97.310938 44.55625 \nL 235.265625 44.55625 \nQ 237.265625 44.55625 237.265625 42.55625 \nL 237.265625 14.2 \nQ 237.265625 12.2 235.265625 12.2 \nL 97.310938 12.2 \nQ 95.310938 12.2 95.310938 14.2 \nL 95.310938 42.55625 \nQ 95.310938 44.55625 97.310938 44.55625 \nz\n\" style=\"fill:#ffffff;opacity:0.8;stroke:#cccccc;stroke-linejoin:miter;\"/>\n    </g>\n    <g id=\"line2d_21\">\n     <path d=\"M 99.310938 20.298437 \nL 119.310938 20.298437 \n\" style=\"fill:none;stroke:#1f77b4;stroke-linecap:square;stroke-width:1.5;\"/>\n    </g>\n    <g id=\"line2d_22\"/>\n    <g id=\"text_12\">\n     <!-- f(x) -->\n     <g transform=\"translate(127.310938 23.798437)scale(0.1 -0.1)\">\n      <use xlink:href=\"#DejaVuSans-102\"/>\n      <use x=\"35.205078\" xlink:href=\"#DejaVuSans-40\"/>\n      <use x=\"74.21875\" xlink:href=\"#DejaVuSans-120\"/>\n      <use x=\"133.398438\" xlink:href=\"#DejaVuSans-41\"/>\n     </g>\n    </g>\n    <g id=\"line2d_23\">\n     <path d=\"M 99.310938 34.976562 \nL 119.310938 34.976562 \n\" style=\"fill:none;stroke:#bf00bf;stroke-dasharray:5.55,2.4;stroke-dashoffset:0;stroke-width:1.5;\"/>\n    </g>\n    <g id=\"line2d_24\"/>\n    <g id=\"text_13\">\n     <!-- Tangent line at x = 1 -->\n     <defs>\n      <path d=\"M -0.296875 72.90625 \nL 61.375 72.90625 \nL 61.375 64.59375 \nL 35.5 64.59375 \nL 35.5 0 \nL 25.59375 0 \nL 25.59375 64.59375 \nL -0.296875 64.59375 \nz\n\" id=\"DejaVuSans-84\"/>\n      <path d=\"M 34.28125 27.484375 \nQ 23.390625 27.484375 19.1875 25 \nQ 14.984375 22.515625 14.984375 16.5 \nQ 14.984375 11.71875 18.140625 8.90625 \nQ 21.296875 6.109375 26.703125 6.109375 \nQ 34.1875 6.109375 38.703125 11.40625 \nQ 43.21875 16.703125 43.21875 25.484375 \nL 43.21875 27.484375 \nz\nM 52.203125 31.203125 \nL 52.203125 0 \nL 43.21875 0 \nL 43.21875 8.296875 \nQ 40.140625 3.328125 35.546875 0.953125 \nQ 30.953125 -1.421875 24.3125 -1.421875 \nQ 15.921875 -1.421875 10.953125 3.296875 \nQ 6 8.015625 6 15.921875 \nQ 6 25.140625 12.171875 29.828125 \nQ 18.359375 34.515625 30.609375 34.515625 \nL 43.21875 34.515625 \nL 43.21875 35.40625 \nQ 43.21875 41.609375 39.140625 45 \nQ 35.0625 48.390625 27.6875 48.390625 \nQ 23 48.390625 18.546875 47.265625 \nQ 14.109375 46.140625 10.015625 43.890625 \nL 10.015625 52.203125 \nQ 14.9375 54.109375 19.578125 55.046875 \nQ 24.21875 56 28.609375 56 \nQ 40.484375 56 46.34375 49.84375 \nQ 52.203125 43.703125 52.203125 31.203125 \nz\n\" id=\"DejaVuSans-97\"/>\n      <path d=\"M 54.890625 33.015625 \nL 54.890625 0 \nL 45.90625 0 \nL 45.90625 32.71875 \nQ 45.90625 40.484375 42.875 44.328125 \nQ 39.84375 48.1875 33.796875 48.1875 \nQ 26.515625 48.1875 22.3125 43.546875 \nQ 18.109375 38.921875 18.109375 30.90625 \nL 18.109375 0 \nL 9.078125 0 \nL 9.078125 54.6875 \nL 18.109375 54.6875 \nL 18.109375 46.1875 \nQ 21.34375 51.125 25.703125 53.5625 \nQ 30.078125 56 35.796875 56 \nQ 45.21875 56 50.046875 50.171875 \nQ 54.890625 44.34375 54.890625 33.015625 \nz\n\" id=\"DejaVuSans-110\"/>\n      <path d=\"M 45.40625 27.984375 \nQ 45.40625 37.75 41.375 43.109375 \nQ 37.359375 48.484375 30.078125 48.484375 \nQ 22.859375 48.484375 18.828125 43.109375 \nQ 14.796875 37.75 14.796875 27.984375 \nQ 14.796875 18.265625 18.828125 12.890625 \nQ 22.859375 7.515625 30.078125 7.515625 \nQ 37.359375 7.515625 41.375 12.890625 \nQ 45.40625 18.265625 45.40625 27.984375 \nz\nM 54.390625 6.78125 \nQ 54.390625 -7.171875 48.1875 -13.984375 \nQ 42 -20.796875 29.203125 -20.796875 \nQ 24.46875 -20.796875 20.265625 -20.09375 \nQ 16.0625 -19.390625 12.109375 -17.921875 \nL 12.109375 -9.1875 \nQ 16.0625 -11.328125 19.921875 -12.34375 \nQ 23.78125 -13.375 27.78125 -13.375 \nQ 36.625 -13.375 41.015625 -8.765625 \nQ 45.40625 -4.15625 45.40625 5.171875 \nL 45.40625 9.625 \nQ 42.625 4.78125 38.28125 2.390625 \nQ 33.9375 0 27.875 0 \nQ 17.828125 0 11.671875 7.65625 \nQ 5.515625 15.328125 5.515625 27.984375 \nQ 5.515625 40.671875 11.671875 48.328125 \nQ 17.828125 56 27.875 56 \nQ 33.9375 56 38.28125 53.609375 \nQ 42.625 51.21875 45.40625 46.390625 \nL 45.40625 54.6875 \nL 54.390625 54.6875 \nz\n\" id=\"DejaVuSans-103\"/>\n      <path d=\"M 56.203125 29.59375 \nL 56.203125 25.203125 \nL 14.890625 25.203125 \nQ 15.484375 15.921875 20.484375 11.0625 \nQ 25.484375 6.203125 34.421875 6.203125 \nQ 39.59375 6.203125 44.453125 7.46875 \nQ 49.3125 8.734375 54.109375 11.28125 \nL 54.109375 2.78125 \nQ 49.265625 0.734375 44.1875 -0.34375 \nQ 39.109375 -1.421875 33.890625 -1.421875 \nQ 20.796875 -1.421875 13.15625 6.1875 \nQ 5.515625 13.8125 5.515625 26.8125 \nQ 5.515625 40.234375 12.765625 48.109375 \nQ 20.015625 56 32.328125 56 \nQ 43.359375 56 49.78125 48.890625 \nQ 56.203125 41.796875 56.203125 29.59375 \nz\nM 47.21875 32.234375 \nQ 47.125 39.59375 43.09375 43.984375 \nQ 39.0625 48.390625 32.421875 48.390625 \nQ 24.90625 48.390625 20.390625 44.140625 \nQ 15.875 39.890625 15.1875 32.171875 \nz\n\" id=\"DejaVuSans-101\"/>\n      <path d=\"M 18.3125 70.21875 \nL 18.3125 54.6875 \nL 36.8125 54.6875 \nL 36.8125 47.703125 \nL 18.3125 47.703125 \nL 18.3125 18.015625 \nQ 18.3125 11.328125 20.140625 9.421875 \nQ 21.96875 7.515625 27.59375 7.515625 \nL 36.8125 7.515625 \nL 36.8125 0 \nL 27.59375 0 \nQ 17.1875 0 13.234375 3.875 \nQ 9.28125 7.765625 9.28125 18.015625 \nL 9.28125 47.703125 \nL 2.6875 47.703125 \nL 2.6875 54.6875 \nL 9.28125 54.6875 \nL 9.28125 70.21875 \nz\n\" id=\"DejaVuSans-116\"/>\n      <path id=\"DejaVuSans-32\"/>\n      <path d=\"M 9.421875 75.984375 \nL 18.40625 75.984375 \nL 18.40625 0 \nL 9.421875 0 \nz\n\" id=\"DejaVuSans-108\"/>\n      <path d=\"M 9.421875 54.6875 \nL 18.40625 54.6875 \nL 18.40625 0 \nL 9.421875 0 \nz\nM 9.421875 75.984375 \nL 18.40625 75.984375 \nL 18.40625 64.59375 \nL 9.421875 64.59375 \nz\n\" id=\"DejaVuSans-105\"/>\n      <path d=\"M 10.59375 45.40625 \nL 73.1875 45.40625 \nL 73.1875 37.203125 \nL 10.59375 37.203125 \nz\nM 10.59375 25.484375 \nL 73.1875 25.484375 \nL 73.1875 17.1875 \nL 10.59375 17.1875 \nz\n\" id=\"DejaVuSans-61\"/>\n     </defs>\n     <g transform=\"translate(127.310938 38.476562)scale(0.1 -0.1)\">\n      <use xlink:href=\"#DejaVuSans-84\"/>\n      <use x=\"60.833984\" xlink:href=\"#DejaVuSans-97\"/>\n      <use x=\"122.113281\" xlink:href=\"#DejaVuSans-110\"/>\n      <use x=\"185.492188\" xlink:href=\"#DejaVuSans-103\"/>\n      <use x=\"248.96875\" xlink:href=\"#DejaVuSans-101\"/>\n      <use x=\"310.492188\" xlink:href=\"#DejaVuSans-110\"/>\n      <use x=\"373.871094\" xlink:href=\"#DejaVuSans-116\"/>\n      <use x=\"413.080078\" xlink:href=\"#DejaVuSans-32\"/>\n      <use x=\"444.867188\" xlink:href=\"#DejaVuSans-108\"/>\n      <use x=\"472.650391\" xlink:href=\"#DejaVuSans-105\"/>\n      <use x=\"500.433594\" xlink:href=\"#DejaVuSans-110\"/>\n      <use x=\"563.8125\" xlink:href=\"#DejaVuSans-101\"/>\n      <use x=\"625.335938\" xlink:href=\"#DejaVuSans-32\"/>\n      <use x=\"657.123047\" xlink:href=\"#DejaVuSans-97\"/>\n      <use x=\"718.402344\" xlink:href=\"#DejaVuSans-116\"/>\n      <use x=\"757.611328\" xlink:href=\"#DejaVuSans-32\"/>\n      <use x=\"789.398438\" xlink:href=\"#DejaVuSans-120\"/>\n      <use x=\"848.578125\" xlink:href=\"#DejaVuSans-32\"/>\n      <use x=\"880.365234\" xlink:href=\"#DejaVuSans-61\"/>\n      <use x=\"964.154297\" xlink:href=\"#DejaVuSans-32\"/>\n      <use x=\"995.941406\" xlink:href=\"#DejaVuSans-49\"/>\n     </g>\n    </g>\n   </g>\n  </g>\n </g>\n <defs>\n  <clipPath id=\"pb03e4fd693\">\n   <rect height=\"135.9\" width=\"195.3\" x=\"46.965625\" y=\"7.2\"/>\n  </clipPath>\n </defs>\n</svg>\n"
          },
          "metadata": {
            "tags": []
          }
        }
      ]
    },
    {
      "cell_type": "markdown",
      "metadata": {
        "id": "fkvWVqse6wiY",
        "colab_type": "text"
      },
      "source": [
        "2.\n",
        "\n",
        "$\\frac{\\partial f}{\\partial x_1} = 6x_1$\n",
        "\n",
        "$\\frac{\\partial f}{\\partial x_2} = 5e^{x_2}$\n",
        "\n",
        "3.\n",
        "$f(x) = ||x||_2 = \\sqrt{\\sum_{i=1}^n x_i^2} = (\\sum_{i=1}^n x_i^2)^{1/2}$\n",
        "\n",
        "$\\frac{\\partial f}{\\partial x_i} = \\frac{1}{2} (\\sum_{i=1}^n x_i^2)^{-1/2} \\times 2x_i = x_i (\\sum_{i=1}^n x_i^2)^{-1/2}, \\forall i \\in [1, 2, \\ldots, n]$\n",
        "\n",
        "4.\n",
        "The chain rule can be applied as follows:\n",
        "\n",
        "$$\\frac{du}{da} = \\frac{du}{dx} \\frac{dx}{da} + \\frac{du}{dy} \\frac{dy}{da} + \\frac{du}{dz} \\frac{dz}{da}$$\n",
        "\n",
        "$$\\frac{du}{db} = \\frac{du}{dx} \\frac{dx}{db} + \\frac{du}{dy} \\frac{dy}{db} + \\frac{du}{dz} \\frac{dz}{db}$$"
      ]
    },
    {
      "cell_type": "markdown",
      "metadata": {
        "id": "ZGrzSZ1qubPp",
        "colab_type": "text"
      },
      "source": [
        "# 2.5. Automatic Differentiation"
      ]
    },
    {
      "cell_type": "code",
      "metadata": {
        "id": "n2TeTLN6vN2o",
        "colab_type": "code",
        "colab": {}
      },
      "source": [
        "from mxnet import autograd, np, npx\n",
        "npx.set_np()"
      ],
      "execution_count": 0,
      "outputs": []
    },
    {
      "cell_type": "code",
      "metadata": {
        "id": "N7wKdZPQuj2u",
        "colab_type": "code",
        "outputId": "c712a396-7722-4962-ed94-03205df2720d",
        "colab": {
          "base_uri": "https://localhost:8080/",
          "height": 35
        }
      },
      "source": [
        "x = np.arange(4)\n",
        "x"
      ],
      "execution_count": 0,
      "outputs": [
        {
          "output_type": "execute_result",
          "data": {
            "text/plain": [
              "array([0., 1., 2., 3.])"
            ]
          },
          "metadata": {
            "tags": []
          },
          "execution_count": 9
        }
      ]
    },
    {
      "cell_type": "code",
      "metadata": {
        "id": "awNiQX1Cuvsr",
        "colab_type": "code",
        "colab": {}
      },
      "source": [
        "x.attach_grad()"
      ],
      "execution_count": 0,
      "outputs": []
    },
    {
      "cell_type": "code",
      "metadata": {
        "id": "-dfrR-hDu63N",
        "colab_type": "code",
        "outputId": "2834c957-d084-4d84-9dc9-c2512985ed88",
        "colab": {
          "base_uri": "https://localhost:8080/",
          "height": 35
        }
      },
      "source": [
        "x.grad"
      ],
      "execution_count": 0,
      "outputs": [
        {
          "output_type": "execute_result",
          "data": {
            "text/plain": [
              "array([0., 0., 0., 0.])"
            ]
          },
          "metadata": {
            "tags": []
          },
          "execution_count": 11
        }
      ]
    },
    {
      "cell_type": "code",
      "metadata": {
        "id": "NjM7eE0gvDJR",
        "colab_type": "code",
        "outputId": "d34780c2-4d34-4e0a-ce48-29c508516572",
        "colab": {
          "base_uri": "https://localhost:8080/",
          "height": 35
        }
      },
      "source": [
        "with autograd.record():\n",
        "    y = 2 * np.dot(x, x)\n",
        "\n",
        "y"
      ],
      "execution_count": 0,
      "outputs": [
        {
          "output_type": "execute_result",
          "data": {
            "text/plain": [
              "array(28.)"
            ]
          },
          "metadata": {
            "tags": []
          },
          "execution_count": 12
        }
      ]
    },
    {
      "cell_type": "code",
      "metadata": {
        "id": "fSAIdnDGveEd",
        "colab_type": "code",
        "colab": {}
      },
      "source": [
        "y.backward(retain_graph=True)"
      ],
      "execution_count": 0,
      "outputs": []
    },
    {
      "cell_type": "code",
      "metadata": {
        "id": "DDn5W7kEvhic",
        "colab_type": "code",
        "outputId": "1756a0a1-3a21-4181-9664-a6d547293043",
        "colab": {
          "base_uri": "https://localhost:8080/",
          "height": 35
        }
      },
      "source": [
        "x.grad"
      ],
      "execution_count": 0,
      "outputs": [
        {
          "output_type": "execute_result",
          "data": {
            "text/plain": [
              "array([ 0.,  4.,  8., 12.])"
            ]
          },
          "metadata": {
            "tags": []
          },
          "execution_count": 14
        }
      ]
    },
    {
      "cell_type": "markdown",
      "metadata": {
        "id": "dxWVUTeyrzkU",
        "colab_type": "text"
      },
      "source": [
        "## Exercises\n",
        "\n",
        "1.\n",
        "Because the first derivative is easier to approximate using [numerical differentiation](https://en.wikipedia.org/wiki/Numerical_differentiation) than the second derivative.\n",
        "\n",
        "2.\n",
        "There would be error, because the computational graph is cleared after calling `backwards()`. We can change that by adding `retain_graph=True` to the function `backwards()`: ```y.backward(retain_graph=True)```\n",
        "\n",
        "3.\n",
        "The new matrix `d` is now the Jacobian matrix of `a`, ie., every element of `d` is the partial derivative of `f` with respect to the corresponding element in `a`."
      ]
    },
    {
      "cell_type": "code",
      "metadata": {
        "id": "hhUGBm3BKyMd",
        "colab_type": "code",
        "colab": {}
      },
      "source": [
        "def f(a):\n",
        "    b = a * 2\n",
        "    while np.linalg.norm(b) < 1000:\n",
        "        b = b * 2\n",
        "    if b.sum() > 0:\n",
        "        c = b\n",
        "    else:\n",
        "        c = 100 * b\n",
        "    return c\n",
        "\n",
        "a = np.random.normal(size=(3, 4))\n",
        "a.attach_grad()\n",
        "with autograd.record():\n",
        "    d = f(a)\n",
        "d.backward()"
      ],
      "execution_count": 0,
      "outputs": []
    },
    {
      "cell_type": "code",
      "metadata": {
        "id": "qYaRQUniL14o",
        "colab_type": "code",
        "outputId": "014d0bf0-63f5-4c9e-8c21-54df51ba5868",
        "colab": {
          "base_uri": "https://localhost:8080/",
          "height": 71
        }
      },
      "source": [
        "a.grad"
      ],
      "execution_count": 0,
      "outputs": [
        {
          "output_type": "execute_result",
          "data": {
            "text/plain": [
              "array([[256., 256., 256., 256.],\n",
              "       [256., 256., 256., 256.],\n",
              "       [256., 256., 256., 256.]])"
            ]
          },
          "metadata": {
            "tags": []
          },
          "execution_count": 3
        }
      ]
    },
    {
      "cell_type": "code",
      "metadata": {
        "id": "SCr5iBu-MMfj",
        "colab_type": "code",
        "outputId": "4a2dd89e-8116-416d-e639-8d15e04d9155",
        "colab": {
          "base_uri": "https://localhost:8080/",
          "height": 71
        }
      },
      "source": [
        "d"
      ],
      "execution_count": 0,
      "outputs": [
        {
          "output_type": "execute_result",
          "data": {
            "text/plain": [
              "array([[ 566.3248 ,  297.74814,  198.14497,  123.85398],\n",
              "       [ 267.12073,   76.68825,  303.08493,   39.17452],\n",
              "       [ 484.2781 , -299.21658, -316.0938 ,  398.8662 ]])"
            ]
          },
          "metadata": {
            "tags": []
          },
          "execution_count": 4
        }
      ]
    },
    {
      "cell_type": "markdown",
      "metadata": {
        "id": "xQrykR5NRVoc",
        "colab_type": "text"
      },
      "source": [
        "4.\n",
        "First I am going define a new function:"
      ]
    },
    {
      "cell_type": "code",
      "metadata": {
        "id": "XH6wgvV0R1ed",
        "colab_type": "code",
        "colab": {}
      },
      "source": [
        "def f(a):\n",
        "    b = a ** 2\n",
        "    while np.linalg.norm(b) < 10:\n",
        "        b = b * 2\n",
        "    if b.sum() > 0:\n",
        "        return b\n",
        "    else:\n",
        "        return 100 * b"
      ],
      "execution_count": 0,
      "outputs": []
    },
    {
      "cell_type": "code",
      "metadata": {
        "id": "xX7dq95ATMVB",
        "colab_type": "code",
        "outputId": "ccc16920-de39-4d97-b613-c280b49101a5",
        "colab": {
          "base_uri": "https://localhost:8080/",
          "height": 35
        }
      },
      "source": [
        "from math import exp\n",
        "\n",
        "a = np.random.normal(2, 1)\n",
        "a.attach_grad()\n",
        "# create a new copy of a with the name b\n",
        "b = a.copy()\n",
        "\n",
        "with autograd.record():\n",
        "    # does this count as siamese???\n",
        "    d = f(a) + f(b)\n",
        "    e = np.exp(d)\n",
        "e.backward()\n",
        "d, e"
      ],
      "execution_count": 0,
      "outputs": [
        {
          "output_type": "execute_result",
          "data": {
            "text/plain": [
              "(array(26.612879), array(3.6126543e+11))"
            ]
          },
          "metadata": {
            "tags": []
          },
          "execution_count": 9
        }
      ]
    },
    {
      "cell_type": "code",
      "metadata": {
        "id": "O08tIDtZUdIO",
        "colab_type": "code",
        "outputId": "5c8fdeed-ae49-421c-ba9c-7459a1727c91",
        "colab": {
          "base_uri": "https://localhost:8080/",
          "height": 35
        }
      },
      "source": [
        "# This is interesting, using copy() does not keep the effect of attach_grad()\n",
        "a.grad, b.grad"
      ],
      "execution_count": 0,
      "outputs": [
        {
          "output_type": "execute_result",
          "data": {
            "text/plain": [
              "(array(3.7273687e+12), None)"
            ]
          },
          "metadata": {
            "tags": []
          },
          "execution_count": 10
        }
      ]
    },
    {
      "cell_type": "markdown",
      "metadata": {
        "id": "5igHJ75tGt0E",
        "colab_type": "text"
      },
      "source": [
        "5.\n",
        "My solution is computing the derivative of $sin(x)$ using autograd. First I compute $y=sin(x)$, then backpropagate through $y$."
      ]
    },
    {
      "cell_type": "code",
      "metadata": {
        "id": "kg7p8mUyHKrf",
        "colab_type": "code",
        "colab": {}
      },
      "source": [
        "def f_prime(x):\n",
        "    x.attach_grad()\n",
        "    with autograd.record():\n",
        "        y = np.sin(x)\n",
        "    y.backward()\n",
        "    return x.grad"
      ],
      "execution_count": 0,
      "outputs": []
    },
    {
      "cell_type": "code",
      "metadata": {
        "id": "RuJ72Y0OH6eG",
        "colab_type": "code",
        "colab": {
          "base_uri": "https://localhost:8080/",
          "height": 262
        },
        "outputId": "d5c57b96-e9ac-43d3-bd78-5e20d6004e3f"
      },
      "source": [
        "# !pip install d2l\n",
        "from d2l import plot\n",
        "# from numpy install sin\n",
        "\n",
        "x = np.arange(-10, 10, 0.01)\n",
        "\n",
        "y = np.sin(x)\n",
        "y_prime = f_prime(x)\n",
        "\n",
        "plot(x, [np.sin(x), f_prime(x)], 'x', 'f(x)', legend=['f(x)=sin(x)', 'f\\'(x)=cos(x)'])"
      ],
      "execution_count": 25,
      "outputs": [
        {
          "output_type": "display_data",
          "data": {
            "text/plain": [
              "<Figure size 252x180 with 1 Axes>"
            ],
            "image/svg+xml": "<?xml version=\"1.0\" encoding=\"utf-8\" standalone=\"no\"?>\n<!DOCTYPE svg PUBLIC \"-//W3C//DTD SVG 1.1//EN\"\n  \"http://www.w3.org/Graphics/SVG/1.1/DTD/svg11.dtd\">\n<!-- Created with matplotlib (https://matplotlib.org/) -->\n<svg height=\"180.65625pt\" version=\"1.1\" viewBox=\"0 0 254.660937 180.65625\" width=\"254.660937pt\" xmlns=\"http://www.w3.org/2000/svg\" xmlns:xlink=\"http://www.w3.org/1999/xlink\">\n <defs>\n  <style type=\"text/css\">\n*{stroke-linecap:butt;stroke-linejoin:round;}\n  </style>\n </defs>\n <g id=\"figure_1\">\n  <g id=\"patch_1\">\n   <path d=\"M 0 180.65625 \nL 254.660937 180.65625 \nL 254.660937 0 \nL 0 0 \nz\n\" style=\"fill:none;\"/>\n  </g>\n  <g id=\"axes_1\">\n   <g id=\"patch_2\">\n    <path d=\"M 52.160938 143.1 \nL 247.460938 143.1 \nL 247.460938 7.2 \nL 52.160938 7.2 \nz\n\" style=\"fill:#ffffff;\"/>\n   </g>\n   <g id=\"matplotlib.axis_1\">\n    <g id=\"xtick_1\">\n     <g id=\"line2d_1\">\n      <path clip-path=\"url(#p79d5cd6594)\" d=\"M 61.03821 143.1 \nL 61.03821 7.2 \n\" style=\"fill:none;stroke:#b0b0b0;stroke-linecap:square;stroke-width:0.8;\"/>\n     </g>\n     <g id=\"line2d_2\">\n      <defs>\n       <path d=\"M 0 0 \nL 0 3.5 \n\" id=\"mfdc72bc435\" style=\"stroke:#000000;stroke-width:0.8;\"/>\n      </defs>\n      <g>\n       <use style=\"stroke:#000000;stroke-width:0.8;\" x=\"61.03821\" xlink:href=\"#mfdc72bc435\" y=\"143.1\"/>\n      </g>\n     </g>\n     <g id=\"text_1\">\n      <!-- −10 -->\n      <defs>\n       <path d=\"M 10.59375 35.5 \nL 73.1875 35.5 \nL 73.1875 27.203125 \nL 10.59375 27.203125 \nz\n\" id=\"DejaVuSans-8722\"/>\n       <path d=\"M 12.40625 8.296875 \nL 28.515625 8.296875 \nL 28.515625 63.921875 \nL 10.984375 60.40625 \nL 10.984375 69.390625 \nL 28.421875 72.90625 \nL 38.28125 72.90625 \nL 38.28125 8.296875 \nL 54.390625 8.296875 \nL 54.390625 0 \nL 12.40625 0 \nz\n\" id=\"DejaVuSans-49\"/>\n       <path d=\"M 31.78125 66.40625 \nQ 24.171875 66.40625 20.328125 58.90625 \nQ 16.5 51.421875 16.5 36.375 \nQ 16.5 21.390625 20.328125 13.890625 \nQ 24.171875 6.390625 31.78125 6.390625 \nQ 39.453125 6.390625 43.28125 13.890625 \nQ 47.125 21.390625 47.125 36.375 \nQ 47.125 51.421875 43.28125 58.90625 \nQ 39.453125 66.40625 31.78125 66.40625 \nz\nM 31.78125 74.21875 \nQ 44.046875 74.21875 50.515625 64.515625 \nQ 56.984375 54.828125 56.984375 36.375 \nQ 56.984375 17.96875 50.515625 8.265625 \nQ 44.046875 -1.421875 31.78125 -1.421875 \nQ 19.53125 -1.421875 13.0625 8.265625 \nQ 6.59375 17.96875 6.59375 36.375 \nQ 6.59375 54.828125 13.0625 64.515625 \nQ 19.53125 74.21875 31.78125 74.21875 \nz\n\" id=\"DejaVuSans-48\"/>\n      </defs>\n      <g transform=\"translate(50.485866 157.698438)scale(0.1 -0.1)\">\n       <use xlink:href=\"#DejaVuSans-8722\"/>\n       <use x=\"83.789062\" xlink:href=\"#DejaVuSans-49\"/>\n       <use x=\"147.412109\" xlink:href=\"#DejaVuSans-48\"/>\n      </g>\n     </g>\n    </g>\n    <g id=\"xtick_2\">\n     <g id=\"line2d_3\">\n      <path clip-path=\"url(#p79d5cd6594)\" d=\"M 105.446779 143.1 \nL 105.446779 7.2 \n\" style=\"fill:none;stroke:#b0b0b0;stroke-linecap:square;stroke-width:0.8;\"/>\n     </g>\n     <g id=\"line2d_4\">\n      <g>\n       <use style=\"stroke:#000000;stroke-width:0.8;\" x=\"105.446779\" xlink:href=\"#mfdc72bc435\" y=\"143.1\"/>\n      </g>\n     </g>\n     <g id=\"text_2\">\n      <!-- −5 -->\n      <defs>\n       <path d=\"M 10.796875 72.90625 \nL 49.515625 72.90625 \nL 49.515625 64.59375 \nL 19.828125 64.59375 \nL 19.828125 46.734375 \nQ 21.96875 47.46875 24.109375 47.828125 \nQ 26.265625 48.1875 28.421875 48.1875 \nQ 40.625 48.1875 47.75 41.5 \nQ 54.890625 34.8125 54.890625 23.390625 \nQ 54.890625 11.625 47.5625 5.09375 \nQ 40.234375 -1.421875 26.90625 -1.421875 \nQ 22.3125 -1.421875 17.546875 -0.640625 \nQ 12.796875 0.140625 7.71875 1.703125 \nL 7.71875 11.625 \nQ 12.109375 9.234375 16.796875 8.0625 \nQ 21.484375 6.890625 26.703125 6.890625 \nQ 35.15625 6.890625 40.078125 11.328125 \nQ 45.015625 15.765625 45.015625 23.390625 \nQ 45.015625 31 40.078125 35.4375 \nQ 35.15625 39.890625 26.703125 39.890625 \nQ 22.75 39.890625 18.8125 39.015625 \nQ 14.890625 38.140625 10.796875 36.28125 \nz\n\" id=\"DejaVuSans-53\"/>\n      </defs>\n      <g transform=\"translate(98.075685 157.698438)scale(0.1 -0.1)\">\n       <use xlink:href=\"#DejaVuSans-8722\"/>\n       <use x=\"83.789062\" xlink:href=\"#DejaVuSans-53\"/>\n      </g>\n     </g>\n    </g>\n    <g id=\"xtick_3\">\n     <g id=\"line2d_5\">\n      <path clip-path=\"url(#p79d5cd6594)\" d=\"M 149.855347 143.1 \nL 149.855347 7.2 \n\" style=\"fill:none;stroke:#b0b0b0;stroke-linecap:square;stroke-width:0.8;\"/>\n     </g>\n     <g id=\"line2d_6\">\n      <g>\n       <use style=\"stroke:#000000;stroke-width:0.8;\" x=\"149.855347\" xlink:href=\"#mfdc72bc435\" y=\"143.1\"/>\n      </g>\n     </g>\n     <g id=\"text_3\">\n      <!-- 0 -->\n      <g transform=\"translate(146.674097 157.698438)scale(0.1 -0.1)\">\n       <use xlink:href=\"#DejaVuSans-48\"/>\n      </g>\n     </g>\n    </g>\n    <g id=\"xtick_4\">\n     <g id=\"line2d_7\">\n      <path clip-path=\"url(#p79d5cd6594)\" d=\"M 194.263916 143.1 \nL 194.263916 7.2 \n\" style=\"fill:none;stroke:#b0b0b0;stroke-linecap:square;stroke-width:0.8;\"/>\n     </g>\n     <g id=\"line2d_8\">\n      <g>\n       <use style=\"stroke:#000000;stroke-width:0.8;\" x=\"194.263916\" xlink:href=\"#mfdc72bc435\" y=\"143.1\"/>\n      </g>\n     </g>\n     <g id=\"text_4\">\n      <!-- 5 -->\n      <g transform=\"translate(191.082666 157.698438)scale(0.1 -0.1)\">\n       <use xlink:href=\"#DejaVuSans-53\"/>\n      </g>\n     </g>\n    </g>\n    <g id=\"xtick_5\">\n     <g id=\"line2d_9\">\n      <path clip-path=\"url(#p79d5cd6594)\" d=\"M 238.672484 143.1 \nL 238.672484 7.2 \n\" style=\"fill:none;stroke:#b0b0b0;stroke-linecap:square;stroke-width:0.8;\"/>\n     </g>\n     <g id=\"line2d_10\">\n      <g>\n       <use style=\"stroke:#000000;stroke-width:0.8;\" x=\"238.672484\" xlink:href=\"#mfdc72bc435\" y=\"143.1\"/>\n      </g>\n     </g>\n     <g id=\"text_5\">\n      <!-- 10 -->\n      <g transform=\"translate(232.309984 157.698438)scale(0.1 -0.1)\">\n       <use xlink:href=\"#DejaVuSans-49\"/>\n       <use x=\"63.623047\" xlink:href=\"#DejaVuSans-48\"/>\n      </g>\n     </g>\n    </g>\n    <g id=\"text_6\">\n     <!-- x -->\n     <defs>\n      <path d=\"M 54.890625 54.6875 \nL 35.109375 28.078125 \nL 55.90625 0 \nL 45.3125 0 \nL 29.390625 21.484375 \nL 13.484375 0 \nL 2.875 0 \nL 24.125 28.609375 \nL 4.6875 54.6875 \nL 15.28125 54.6875 \nL 29.78125 35.203125 \nL 44.28125 54.6875 \nz\n\" id=\"DejaVuSans-120\"/>\n     </defs>\n     <g transform=\"translate(146.851563 171.376563)scale(0.1 -0.1)\">\n      <use xlink:href=\"#DejaVuSans-120\"/>\n     </g>\n    </g>\n   </g>\n   <g id=\"matplotlib.axis_2\">\n    <g id=\"ytick_1\">\n     <g id=\"line2d_11\">\n      <path clip-path=\"url(#p79d5cd6594)\" d=\"M 52.160938 136.922746 \nL 247.460938 136.922746 \n\" style=\"fill:none;stroke:#b0b0b0;stroke-linecap:square;stroke-width:0.8;\"/>\n     </g>\n     <g id=\"line2d_12\">\n      <defs>\n       <path d=\"M 0 0 \nL -3.5 0 \n\" id=\"m4b11d6fadd\" style=\"stroke:#000000;stroke-width:0.8;\"/>\n      </defs>\n      <g>\n       <use style=\"stroke:#000000;stroke-width:0.8;\" x=\"52.160938\" xlink:href=\"#m4b11d6fadd\" y=\"136.922746\"/>\n      </g>\n     </g>\n     <g id=\"text_7\">\n      <!-- −1.0 -->\n      <defs>\n       <path d=\"M 10.6875 12.40625 \nL 21 12.40625 \nL 21 0 \nL 10.6875 0 \nz\n\" id=\"DejaVuSans-46\"/>\n      </defs>\n      <g transform=\"translate(20.878125 140.721964)scale(0.1 -0.1)\">\n       <use xlink:href=\"#DejaVuSans-8722\"/>\n       <use x=\"83.789062\" xlink:href=\"#DejaVuSans-49\"/>\n       <use x=\"147.412109\" xlink:href=\"#DejaVuSans-46\"/>\n       <use x=\"179.199219\" xlink:href=\"#DejaVuSans-48\"/>\n      </g>\n     </g>\n    </g>\n    <g id=\"ytick_2\">\n     <g id=\"line2d_13\">\n      <path clip-path=\"url(#p79d5cd6594)\" d=\"M 52.160938 106.036377 \nL 247.460938 106.036377 \n\" style=\"fill:none;stroke:#b0b0b0;stroke-linecap:square;stroke-width:0.8;\"/>\n     </g>\n     <g id=\"line2d_14\">\n      <g>\n       <use style=\"stroke:#000000;stroke-width:0.8;\" x=\"52.160938\" xlink:href=\"#m4b11d6fadd\" y=\"106.036377\"/>\n      </g>\n     </g>\n     <g id=\"text_8\">\n      <!-- −0.5 -->\n      <g transform=\"translate(20.878125 109.835596)scale(0.1 -0.1)\">\n       <use xlink:href=\"#DejaVuSans-8722\"/>\n       <use x=\"83.789062\" xlink:href=\"#DejaVuSans-48\"/>\n       <use x=\"147.412109\" xlink:href=\"#DejaVuSans-46\"/>\n       <use x=\"179.199219\" xlink:href=\"#DejaVuSans-53\"/>\n      </g>\n     </g>\n    </g>\n    <g id=\"ytick_3\">\n     <g id=\"line2d_15\">\n      <path clip-path=\"url(#p79d5cd6594)\" d=\"M 52.160938 75.150009 \nL 247.460938 75.150009 \n\" style=\"fill:none;stroke:#b0b0b0;stroke-linecap:square;stroke-width:0.8;\"/>\n     </g>\n     <g id=\"line2d_16\">\n      <g>\n       <use style=\"stroke:#000000;stroke-width:0.8;\" x=\"52.160938\" xlink:href=\"#m4b11d6fadd\" y=\"75.150009\"/>\n      </g>\n     </g>\n     <g id=\"text_9\">\n      <!-- 0.0 -->\n      <g transform=\"translate(29.257812 78.949228)scale(0.1 -0.1)\">\n       <use xlink:href=\"#DejaVuSans-48\"/>\n       <use x=\"63.623047\" xlink:href=\"#DejaVuSans-46\"/>\n       <use x=\"95.410156\" xlink:href=\"#DejaVuSans-48\"/>\n      </g>\n     </g>\n    </g>\n    <g id=\"ytick_4\">\n     <g id=\"line2d_17\">\n      <path clip-path=\"url(#p79d5cd6594)\" d=\"M 52.160938 44.263641 \nL 247.460938 44.263641 \n\" style=\"fill:none;stroke:#b0b0b0;stroke-linecap:square;stroke-width:0.8;\"/>\n     </g>\n     <g id=\"line2d_18\">\n      <g>\n       <use style=\"stroke:#000000;stroke-width:0.8;\" x=\"52.160938\" xlink:href=\"#m4b11d6fadd\" y=\"44.263641\"/>\n      </g>\n     </g>\n     <g id=\"text_10\">\n      <!-- 0.5 -->\n      <g transform=\"translate(29.257812 48.06286)scale(0.1 -0.1)\">\n       <use xlink:href=\"#DejaVuSans-48\"/>\n       <use x=\"63.623047\" xlink:href=\"#DejaVuSans-46\"/>\n       <use x=\"95.410156\" xlink:href=\"#DejaVuSans-53\"/>\n      </g>\n     </g>\n    </g>\n    <g id=\"ytick_5\">\n     <g id=\"line2d_19\">\n      <path clip-path=\"url(#p79d5cd6594)\" d=\"M 52.160938 13.377273 \nL 247.460938 13.377273 \n\" style=\"fill:none;stroke:#b0b0b0;stroke-linecap:square;stroke-width:0.8;\"/>\n     </g>\n     <g id=\"line2d_20\">\n      <g>\n       <use style=\"stroke:#000000;stroke-width:0.8;\" x=\"52.160938\" xlink:href=\"#m4b11d6fadd\" y=\"13.377273\"/>\n      </g>\n     </g>\n     <g id=\"text_11\">\n      <!-- 1.0 -->\n      <g transform=\"translate(29.257812 17.176491)scale(0.1 -0.1)\">\n       <use xlink:href=\"#DejaVuSans-49\"/>\n       <use x=\"63.623047\" xlink:href=\"#DejaVuSans-46\"/>\n       <use x=\"95.410156\" xlink:href=\"#DejaVuSans-48\"/>\n      </g>\n     </g>\n    </g>\n    <g id=\"text_12\">\n     <!-- f(x) -->\n     <defs>\n      <path d=\"M 37.109375 75.984375 \nL 37.109375 68.5 \nL 28.515625 68.5 \nQ 23.6875 68.5 21.796875 66.546875 \nQ 19.921875 64.59375 19.921875 59.515625 \nL 19.921875 54.6875 \nL 34.71875 54.6875 \nL 34.71875 47.703125 \nL 19.921875 47.703125 \nL 19.921875 0 \nL 10.890625 0 \nL 10.890625 47.703125 \nL 2.296875 47.703125 \nL 2.296875 54.6875 \nL 10.890625 54.6875 \nL 10.890625 58.5 \nQ 10.890625 67.625 15.140625 71.796875 \nQ 19.390625 75.984375 28.609375 75.984375 \nz\n\" id=\"DejaVuSans-102\"/>\n      <path d=\"M 31 75.875 \nQ 24.46875 64.65625 21.28125 53.65625 \nQ 18.109375 42.671875 18.109375 31.390625 \nQ 18.109375 20.125 21.3125 9.0625 \nQ 24.515625 -2 31 -13.1875 \nL 23.1875 -13.1875 \nQ 15.875 -1.703125 12.234375 9.375 \nQ 8.59375 20.453125 8.59375 31.390625 \nQ 8.59375 42.28125 12.203125 53.3125 \nQ 15.828125 64.359375 23.1875 75.875 \nz\n\" id=\"DejaVuSans-40\"/>\n      <path d=\"M 8.015625 75.875 \nL 15.828125 75.875 \nQ 23.140625 64.359375 26.78125 53.3125 \nQ 30.421875 42.28125 30.421875 31.390625 \nQ 30.421875 20.453125 26.78125 9.375 \nQ 23.140625 -1.703125 15.828125 -13.1875 \nL 8.015625 -13.1875 \nQ 14.5 -2 17.703125 9.0625 \nQ 20.90625 20.125 20.90625 31.390625 \nQ 20.90625 42.671875 17.703125 53.65625 \nQ 14.5 64.65625 8.015625 75.875 \nz\n\" id=\"DejaVuSans-41\"/>\n     </defs>\n     <g transform=\"translate(14.798438 83.771094)rotate(-90)scale(0.1 -0.1)\">\n      <use xlink:href=\"#DejaVuSans-102\"/>\n      <use x=\"35.205078\" xlink:href=\"#DejaVuSans-40\"/>\n      <use x=\"74.21875\" xlink:href=\"#DejaVuSans-120\"/>\n      <use x=\"133.398438\" xlink:href=\"#DejaVuSans-41\"/>\n     </g>\n    </g>\n   </g>\n   <g id=\"line2d_21\">\n    <path clip-path=\"url(#p79d5cd6594)\" d=\"M 61.03821 41.544335 \nL 62.90337 53.087465 \nL 65.567886 71.123935 \nL 69.919924 100.607696 \nL 71.873903 112.276735 \nL 73.472606 120.51571 \nL 74.804868 126.271727 \nL 75.959492 130.335586 \nL 76.936477 133.049103 \nL 77.824652 134.909324 \nL 78.623999 136.073403 \nL 79.245725 136.638209 \nL 79.867442 136.90184 \nL 80.400349 136.887082 \nL 80.933247 136.650142 \nL 81.554968 136.094073 \nL 82.265505 135.093277 \nL 83.06486 133.509471 \nL 83.953031 131.196335 \nL 84.930021 128.006146 \nL 86.08464 123.415711 \nL 87.416902 117.112506 \nL 88.92679 108.838195 \nL 90.79195 97.304427 \nL 93.456462 79.274289 \nL 97.897323 49.220032 \nL 99.851298 37.609543 \nL 101.450005 29.433419 \nL 102.782263 23.738578 \nL 103.936887 19.733041 \nL 104.913876 17.071947 \nL 105.802047 15.2613 \nL 106.512583 14.242949 \nL 107.134305 13.67132 \nL 107.756022 13.400819 \nL 108.288924 13.40967 \nL 108.821831 13.640723 \nL 109.443548 14.189962 \nL 110.154085 15.183052 \nL 110.95344 16.758371 \nL 111.841611 19.062383 \nL 112.8186 22.243017 \nL 113.973224 26.822981 \nL 115.305478 33.115343 \nL 116.81537 41.379392 \nL 118.68053 52.903774 \nL 121.345046 70.927593 \nL 125.785903 100.990651 \nL 127.739878 112.612289 \nL 129.338589 120.800391 \nL 130.670843 126.50683 \nL 131.825466 130.523438 \nL 132.802456 133.194481 \nL 133.690622 135.01452 \nL 134.489978 136.141552 \nL 135.111704 136.677138 \nL 135.644602 136.896405 \nL 136.177508 136.893456 \nL 136.710406 136.668298 \nL 137.332132 136.125881 \nL 137.953849 135.284815 \nL 138.664386 133.963238 \nL 139.552561 131.783443 \nL 140.529546 128.73312 \nL 141.595351 124.668278 \nL 142.838794 119.030474 \nL 144.259866 111.543097 \nL 146.036207 100.901276 \nL 148.345455 85.60087 \nL 154.296204 45.534581 \nL 156.072545 35.354928 \nL 157.582437 27.935325 \nL 158.82588 22.838881 \nL 159.980495 19.021248 \nL 160.957489 16.528632 \nL 161.756845 15.015203 \nL 162.467381 14.078285 \nL 163.089098 13.578793 \nL 163.622005 13.390631 \nL 164.154903 13.424737 \nL 164.68781 13.680989 \nL 165.309527 14.259437 \nL 166.020063 15.285483 \nL 166.819419 16.897084 \nL 167.707585 19.240069 \nL 168.684579 22.461537 \nL 169.839203 27.086299 \nL 171.171457 33.424784 \nL 172.681349 41.732659 \nL 174.546509 53.297002 \nL 177.299844 71.964413 \nL 181.563062 100.811783 \nL 183.517042 112.455659 \nL 185.115744 120.667568 \nL 186.448006 126.397233 \nL 187.60263 130.435952 \nL 188.579616 133.126855 \nL 189.46779 134.965701 \nL 190.267138 136.110049 \nL 190.888863 136.659295 \nL 191.510581 136.907263 \nL 192.043487 136.879059 \nL 192.576385 136.628698 \nL 193.198111 136.05707 \nL 193.908647 135.038718 \nL 194.707994 133.435608 \nL 195.596169 131.101702 \nL 196.573155 127.889789 \nL 197.727778 123.275484 \nL 199.060041 116.947713 \nL 200.569933 108.650044 \nL 202.435093 97.094989 \nL 205.188419 78.433891 \nL 209.451638 49.577793 \nL 211.405626 37.922803 \nL 213.00432 29.699046 \nL 214.33659 23.957768 \nL 215.491206 19.90804 \nL 216.4682 17.207185 \nL 217.356374 15.358957 \nL 218.15573 14.205942 \nL 218.777447 13.649876 \nL 219.399165 13.395034 \nL 219.932063 13.417336 \nL 220.464961 13.661806 \nL 221.086695 14.226616 \nL 221.797231 15.237268 \nL 222.596587 16.831925 \nL 223.484745 19.156677 \nL 224.461739 22.359083 \nL 225.616354 26.962891 \nL 226.948625 33.279933 \nL 228.458517 41.567377 \nL 230.323668 53.113056 \nL 233.076995 71.767851 \nL 237.34023 100.63271 \nL 238.583665 108.235682 \nL 238.583665 108.235682 \n\" style=\"fill:none;stroke:#1f77b4;stroke-linecap:square;stroke-width:1.5;\"/>\n   </g>\n   <g id=\"line2d_22\">\n    <path clip-path=\"url(#p79d5cd6594)\" d=\"M 61.03821 126.981753 \nL 62.192834 130.900837 \nL 63.169819 133.484302 \nL 64.057994 135.221688 \nL 64.768531 136.180069 \nL 65.390248 136.69856 \nL 65.923154 136.903099 \nL 66.456053 136.885392 \nL 66.988959 136.645506 \nL 67.610676 136.086024 \nL 68.321213 135.081377 \nL 69.120568 133.49333 \nL 70.008743 131.175624 \nL 70.985729 127.980675 \nL 72.140352 123.384985 \nL 73.472606 117.076423 \nL 74.982498 108.796961 \nL 76.847658 97.258512 \nL 79.512174 79.225187 \nL 83.953031 49.175401 \nL 85.90701 37.570474 \nL 87.505717 29.400341 \nL 88.837975 23.711313 \nL 89.992599 19.711314 \nL 90.969584 17.055212 \nL 91.857759 15.249257 \nL 92.568296 14.23476 \nL 93.190013 13.666548 \nL 93.81173 13.399479 \nL 94.344637 13.411283 \nL 94.877539 13.645281 \nL 95.49926 14.197937 \nL 96.209797 15.194882 \nL 97.009148 16.774435 \nL 97.897323 19.08302 \nL 98.874308 22.268423 \nL 100.028932 26.85363 \nL 101.36119 33.151415 \nL 102.871082 41.420611 \nL 104.736242 52.94969 \nL 107.400754 70.97666 \nL 111.841611 101.035313 \nL 113.79559 112.651406 \nL 115.394297 120.83351 \nL 116.726555 126.534161 \nL 117.881174 130.545221 \nL 118.858164 133.211289 \nL 119.746335 135.026641 \nL 120.456875 136.048844 \nL 121.078593 136.623882 \nL 121.700314 136.897823 \nL 122.233216 136.89192 \nL 122.766119 136.663817 \nL 123.38784 136.117987 \nL 124.009557 135.273545 \nL 124.720098 133.948171 \nL 125.608269 131.763785 \nL 126.585254 128.708635 \nL 127.651063 124.638841 \nL 128.894502 118.995845 \nL 130.315574 111.503347 \nL 132.09192 100.856539 \nL 134.401167 85.552366 \nL 140.351908 45.491456 \nL 142.128257 35.317302 \nL 143.638149 27.903605 \nL 144.881584 22.812757 \nL 146.036207 19.000714 \nL 147.013193 16.513153 \nL 147.812549 15.003977 \nL 148.523085 14.070917 \nL 149.144811 13.574838 \nL 149.677709 13.389629 \nL 150.210615 13.426684 \nL 150.743513 13.685875 \nL 151.365239 14.267743 \nL 152.075776 15.297637 \nL 152.875131 16.913476 \nL 153.763297 19.261012 \nL 154.740291 22.487244 \nL 155.894907 27.11719 \nL 157.227169 33.461085 \nL 158.737061 41.774059 \nL 160.602221 53.343038 \nL 163.355547 72.0135 \nL 167.618774 100.856539 \nL 169.572745 112.494824 \nL 171.171457 120.70082 \nL 172.503719 126.424693 \nL 173.658334 130.457859 \nL 174.635328 133.143821 \nL 175.523494 134.977955 \nL 176.32285 136.117984 \nL 176.944567 136.663809 \nL 177.566293 136.908346 \nL 178.099191 136.877193 \nL 178.632097 136.623886 \nL 179.253815 136.048851 \nL 179.964351 135.026656 \nL 180.763707 133.419289 \nL 181.651881 131.080833 \nL 182.628867 127.864152 \nL 183.783491 123.244618 \nL 185.115744 116.911509 \nL 186.625636 108.608737 \nL 188.490797 97.049037 \nL 191.244132 78.384749 \nL 195.50735 49.533006 \nL 197.461329 37.883594 \nL 199.060041 29.665695 \nL 200.392294 23.930278 \nL 201.546918 19.886037 \nL 202.523903 17.190163 \nL 203.41207 15.34664 \nL 204.211425 14.197948 \nL 204.83316 13.645278 \nL 205.454877 13.393875 \nL 205.987775 13.419129 \nL 206.520673 13.666541 \nL 207.14239 14.234749 \nL 207.852927 15.249242 \nL 208.652282 16.848129 \nL 209.540457 19.17748 \nL 210.517451 22.384654 \nL 211.672066 26.993698 \nL 213.00432 33.316042 \nL 214.514212 41.608593 \nL 216.379381 53.159036 \nL 219.132707 71.816988 \nL 223.395926 100.677421 \nL 225.349913 112.337933 \nL 226.948625 120.56771 \nL 228.280878 126.314691 \nL 229.435494 130.369938 \nL 230.412488 133.075757 \nL 231.300662 134.92868 \nL 232.100018 136.086024 \nL 232.721735 136.645506 \nL 233.343452 136.903784 \nL 233.87635 136.884435 \nL 234.409265 136.6429 \nL 235.030983 136.081514 \nL 235.741519 135.074716 \nL 236.540875 133.484302 \nL 237.429033 131.164107 \nL 238.406026 127.966473 \nL 238.583665 127.315222 \nL 238.583665 127.315222 \n\" style=\"fill:none;stroke:#bf00bf;stroke-dasharray:5.55,2.4;stroke-dashoffset:0;stroke-width:1.5;\"/>\n   </g>\n   <g id=\"patch_3\">\n    <path d=\"M 52.160938 143.1 \nL 52.160938 7.2 \n\" style=\"fill:none;stroke:#000000;stroke-linecap:square;stroke-linejoin:miter;stroke-width:0.8;\"/>\n   </g>\n   <g id=\"patch_4\">\n    <path d=\"M 247.460938 143.1 \nL 247.460938 7.2 \n\" style=\"fill:none;stroke:#000000;stroke-linecap:square;stroke-linejoin:miter;stroke-width:0.8;\"/>\n   </g>\n   <g id=\"patch_5\">\n    <path d=\"M 52.160938 143.1 \nL 247.460938 143.1 \n\" style=\"fill:none;stroke:#000000;stroke-linecap:square;stroke-linejoin:miter;stroke-width:0.8;\"/>\n   </g>\n   <g id=\"patch_6\">\n    <path d=\"M 52.160938 7.2 \nL 247.460938 7.2 \n\" style=\"fill:none;stroke:#000000;stroke-linecap:square;stroke-linejoin:miter;stroke-width:0.8;\"/>\n   </g>\n   <g id=\"legend_1\">\n    <g id=\"patch_7\">\n     <path d=\"M 59.160938 91.328125 \nL 150.079688 91.328125 \nQ 152.079688 91.328125 152.079688 89.328125 \nL 152.079688 60.971875 \nQ 152.079688 58.971875 150.079688 58.971875 \nL 59.160938 58.971875 \nQ 57.160938 58.971875 57.160938 60.971875 \nL 57.160938 89.328125 \nQ 57.160938 91.328125 59.160938 91.328125 \nz\n\" style=\"fill:#ffffff;opacity:0.8;stroke:#cccccc;stroke-linejoin:miter;\"/>\n    </g>\n    <g id=\"line2d_23\">\n     <path d=\"M 61.160938 67.070312 \nL 81.160938 67.070312 \n\" style=\"fill:none;stroke:#1f77b4;stroke-linecap:square;stroke-width:1.5;\"/>\n    </g>\n    <g id=\"line2d_24\"/>\n    <g id=\"text_13\">\n     <!-- f(x)=sin(x) -->\n     <defs>\n      <path d=\"M 10.59375 45.40625 \nL 73.1875 45.40625 \nL 73.1875 37.203125 \nL 10.59375 37.203125 \nz\nM 10.59375 25.484375 \nL 73.1875 25.484375 \nL 73.1875 17.1875 \nL 10.59375 17.1875 \nz\n\" id=\"DejaVuSans-61\"/>\n      <path d=\"M 44.28125 53.078125 \nL 44.28125 44.578125 \nQ 40.484375 46.53125 36.375 47.5 \nQ 32.28125 48.484375 27.875 48.484375 \nQ 21.1875 48.484375 17.84375 46.4375 \nQ 14.5 44.390625 14.5 40.28125 \nQ 14.5 37.15625 16.890625 35.375 \nQ 19.28125 33.59375 26.515625 31.984375 \nL 29.59375 31.296875 \nQ 39.15625 29.25 43.1875 25.515625 \nQ 47.21875 21.78125 47.21875 15.09375 \nQ 47.21875 7.46875 41.1875 3.015625 \nQ 35.15625 -1.421875 24.609375 -1.421875 \nQ 20.21875 -1.421875 15.453125 -0.5625 \nQ 10.6875 0.296875 5.421875 2 \nL 5.421875 11.28125 \nQ 10.40625 8.6875 15.234375 7.390625 \nQ 20.0625 6.109375 24.8125 6.109375 \nQ 31.15625 6.109375 34.5625 8.28125 \nQ 37.984375 10.453125 37.984375 14.40625 \nQ 37.984375 18.0625 35.515625 20.015625 \nQ 33.0625 21.96875 24.703125 23.78125 \nL 21.578125 24.515625 \nQ 13.234375 26.265625 9.515625 29.90625 \nQ 5.8125 33.546875 5.8125 39.890625 \nQ 5.8125 47.609375 11.28125 51.796875 \nQ 16.75 56 26.8125 56 \nQ 31.78125 56 36.171875 55.265625 \nQ 40.578125 54.546875 44.28125 53.078125 \nz\n\" id=\"DejaVuSans-115\"/>\n      <path d=\"M 9.421875 54.6875 \nL 18.40625 54.6875 \nL 18.40625 0 \nL 9.421875 0 \nz\nM 9.421875 75.984375 \nL 18.40625 75.984375 \nL 18.40625 64.59375 \nL 9.421875 64.59375 \nz\n\" id=\"DejaVuSans-105\"/>\n      <path d=\"M 54.890625 33.015625 \nL 54.890625 0 \nL 45.90625 0 \nL 45.90625 32.71875 \nQ 45.90625 40.484375 42.875 44.328125 \nQ 39.84375 48.1875 33.796875 48.1875 \nQ 26.515625 48.1875 22.3125 43.546875 \nQ 18.109375 38.921875 18.109375 30.90625 \nL 18.109375 0 \nL 9.078125 0 \nL 9.078125 54.6875 \nL 18.109375 54.6875 \nL 18.109375 46.1875 \nQ 21.34375 51.125 25.703125 53.5625 \nQ 30.078125 56 35.796875 56 \nQ 45.21875 56 50.046875 50.171875 \nQ 54.890625 44.34375 54.890625 33.015625 \nz\n\" id=\"DejaVuSans-110\"/>\n     </defs>\n     <g transform=\"translate(89.160938 70.570312)scale(0.1 -0.1)\">\n      <use xlink:href=\"#DejaVuSans-102\"/>\n      <use x=\"35.205078\" xlink:href=\"#DejaVuSans-40\"/>\n      <use x=\"74.21875\" xlink:href=\"#DejaVuSans-120\"/>\n      <use x=\"133.398438\" xlink:href=\"#DejaVuSans-41\"/>\n      <use x=\"172.412109\" xlink:href=\"#DejaVuSans-61\"/>\n      <use x=\"256.201172\" xlink:href=\"#DejaVuSans-115\"/>\n      <use x=\"308.300781\" xlink:href=\"#DejaVuSans-105\"/>\n      <use x=\"336.083984\" xlink:href=\"#DejaVuSans-110\"/>\n      <use x=\"399.462891\" xlink:href=\"#DejaVuSans-40\"/>\n      <use x=\"438.476562\" xlink:href=\"#DejaVuSans-120\"/>\n      <use x=\"497.65625\" xlink:href=\"#DejaVuSans-41\"/>\n     </g>\n    </g>\n    <g id=\"line2d_25\">\n     <path d=\"M 61.160938 81.748437 \nL 81.160938 81.748437 \n\" style=\"fill:none;stroke:#bf00bf;stroke-dasharray:5.55,2.4;stroke-dashoffset:0;stroke-width:1.5;\"/>\n    </g>\n    <g id=\"line2d_26\"/>\n    <g id=\"text_14\">\n     <!-- f'(x)=cos(x) -->\n     <defs>\n      <path d=\"M 17.921875 72.90625 \nL 17.921875 45.796875 \nL 9.625 45.796875 \nL 9.625 72.90625 \nz\n\" id=\"DejaVuSans-39\"/>\n      <path d=\"M 48.78125 52.59375 \nL 48.78125 44.1875 \nQ 44.96875 46.296875 41.140625 47.34375 \nQ 37.3125 48.390625 33.40625 48.390625 \nQ 24.65625 48.390625 19.8125 42.84375 \nQ 14.984375 37.3125 14.984375 27.296875 \nQ 14.984375 17.28125 19.8125 11.734375 \nQ 24.65625 6.203125 33.40625 6.203125 \nQ 37.3125 6.203125 41.140625 7.25 \nQ 44.96875 8.296875 48.78125 10.40625 \nL 48.78125 2.09375 \nQ 45.015625 0.34375 40.984375 -0.53125 \nQ 36.96875 -1.421875 32.421875 -1.421875 \nQ 20.0625 -1.421875 12.78125 6.34375 \nQ 5.515625 14.109375 5.515625 27.296875 \nQ 5.515625 40.671875 12.859375 48.328125 \nQ 20.21875 56 33.015625 56 \nQ 37.15625 56 41.109375 55.140625 \nQ 45.0625 54.296875 48.78125 52.59375 \nz\n\" id=\"DejaVuSans-99\"/>\n      <path d=\"M 30.609375 48.390625 \nQ 23.390625 48.390625 19.1875 42.75 \nQ 14.984375 37.109375 14.984375 27.296875 \nQ 14.984375 17.484375 19.15625 11.84375 \nQ 23.34375 6.203125 30.609375 6.203125 \nQ 37.796875 6.203125 41.984375 11.859375 \nQ 46.1875 17.53125 46.1875 27.296875 \nQ 46.1875 37.015625 41.984375 42.703125 \nQ 37.796875 48.390625 30.609375 48.390625 \nz\nM 30.609375 56 \nQ 42.328125 56 49.015625 48.375 \nQ 55.71875 40.765625 55.71875 27.296875 \nQ 55.71875 13.875 49.015625 6.21875 \nQ 42.328125 -1.421875 30.609375 -1.421875 \nQ 18.84375 -1.421875 12.171875 6.21875 \nQ 5.515625 13.875 5.515625 27.296875 \nQ 5.515625 40.765625 12.171875 48.375 \nQ 18.84375 56 30.609375 56 \nz\n\" id=\"DejaVuSans-111\"/>\n     </defs>\n     <g transform=\"translate(89.160938 85.248437)scale(0.1 -0.1)\">\n      <use xlink:href=\"#DejaVuSans-102\"/>\n      <use x=\"35.205078\" xlink:href=\"#DejaVuSans-39\"/>\n      <use x=\"62.695312\" xlink:href=\"#DejaVuSans-40\"/>\n      <use x=\"101.708984\" xlink:href=\"#DejaVuSans-120\"/>\n      <use x=\"160.888672\" xlink:href=\"#DejaVuSans-41\"/>\n      <use x=\"199.902344\" xlink:href=\"#DejaVuSans-61\"/>\n      <use x=\"283.691406\" xlink:href=\"#DejaVuSans-99\"/>\n      <use x=\"338.671875\" xlink:href=\"#DejaVuSans-111\"/>\n      <use x=\"399.853516\" xlink:href=\"#DejaVuSans-115\"/>\n      <use x=\"451.953125\" xlink:href=\"#DejaVuSans-40\"/>\n      <use x=\"490.966797\" xlink:href=\"#DejaVuSans-120\"/>\n      <use x=\"550.146484\" xlink:href=\"#DejaVuSans-41\"/>\n     </g>\n    </g>\n   </g>\n  </g>\n </g>\n <defs>\n  <clipPath id=\"p79d5cd6594\">\n   <rect height=\"135.9\" width=\"195.3\" x=\"52.160938\" y=\"7.2\"/>\n  </clipPath>\n </defs>\n</svg>\n"
          },
          "metadata": {
            "tags": []
          }
        }
      ]
    },
    {
      "cell_type": "markdown",
      "metadata": {
        "id": "KM_hIyKMMQxA",
        "colab_type": "text"
      },
      "source": [
        "6. Incomplete"
      ]
    },
    {
      "cell_type": "code",
      "metadata": {
        "id": "xqH_VaS1P0xD",
        "colab_type": "code",
        "colab": {}
      },
      "source": [
        "from mxnet.ndarray import sort"
      ],
      "execution_count": 0,
      "outputs": []
    },
    {
      "cell_type": "code",
      "metadata": {
        "id": "dyt-7SvAMRrK",
        "colab_type": "code",
        "colab": {}
      },
      "source": [
        "def f_prime(prices):\n",
        "    \"\"\"Compute the gradient of the final price with respect to the winning bid\"\"\"\n",
        "    prices = sort(prices.as_nd_ndarray()).asnumpy()\n",
        "    prices = np.array(prices)\n",
        "    prices[-1].attach_grad()\n",
        "    with autograd.record():\n",
        "        prices[:] = prices[:-1]\n",
        "    final_price.backward()\n",
        "    return prices[-1].grad"
      ],
      "execution_count": 0,
      "outputs": []
    },
    {
      "cell_type": "code",
      "metadata": {
        "id": "rbJMA6-PNiZH",
        "colab_type": "code",
        "colab": {}
      },
      "source": [
        "x = np.random.normal(100, 100, size=(100, 1))\n",
        "print(f_prime(x))"
      ],
      "execution_count": 0,
      "outputs": []
    }
  ]
}